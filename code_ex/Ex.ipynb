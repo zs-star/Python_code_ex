{
 "metadata": {
  "language_info": {
   "codemirror_mode": {
    "name": "ipython",
    "version": 3
   },
   "file_extension": ".py",
   "mimetype": "text/x-python",
   "name": "python",
   "nbconvert_exporter": "python",
   "pygments_lexer": "ipython3",
   "version": "3.9.4"
  },
  "orig_nbformat": 2,
  "kernelspec": {
   "name": "python394jvsc74a57bd00ac516125b3ee16d4eaa41f008fade7bad50b808bd1b6d74d2e8ae0015ba9066",
   "display_name": "Python 3.9.4 64-bit"
  },
  "metadata": {
   "interpreter": {
    "hash": "0ac516125b3ee16d4eaa41f008fade7bad50b808bd1b6d74d2e8ae0015ba9066"
   }
  }
 },
 "nbformat": 4,
 "nbformat_minor": 2,
 "cells": [
  {
   "cell_type": "code",
   "execution_count": 1,
   "metadata": {},
   "outputs": [
    {
     "output_type": "stream",
     "name": "stdout",
     "text": [
      "hello world\n"
     ]
    }
   ],
   "source": [
    "print(\"hello world\")"
   ]
  },
  {
   "cell_type": "code",
   "execution_count": 1,
   "metadata": {},
   "outputs": [
    {
     "output_type": "stream",
     "name": "stdout",
     "text": [
      "The length of the longest word:  9\n"
     ]
    }
   ],
   "source": [
    "sentence = input(\"Enter the sentence\")\n",
    "word = sentence.split()\n",
    "i=0\n",
    "max_word = 0\n",
    "while i < len(word): \n",
    "  if  len(word[i]) > max_word:\n",
    "     max_word = len(word[i])\n",
    "  i += 1\n",
    "print(\"The length of the longest word: \", max_word)   "
   ]
  },
  {
   "cell_type": "code",
   "execution_count": 2,
   "metadata": {},
   "outputs": [
    {
     "output_type": "stream",
     "name": "stdout",
     "text": [
      "z-a-h-i-r-e"
     ]
    }
   ],
   "source": [
    "word = input(\"Enter the word: \")\n",
    "count = 0\n",
    "for i in word:\n",
    "  count += 1\n",
    "  if count < len(word):\n",
    "    i = i + \"-\"\n",
    "  print(i, end =\"\") "
   ]
  },
  {
   "cell_type": "code",
   "execution_count": 3,
   "metadata": {},
   "outputs": [
    {
     "output_type": "stream",
     "name": "stdout",
     "text": [
      "[1, 2, 3, 4, 5]\n"
     ]
    }
   ],
   "source": [
    "my_list = []\n",
    "for i in range(1,6):\n",
    "  my_list.append(i)\n",
    "print(my_list)"
   ]
  },
  {
   "cell_type": "code",
   "execution_count": 4,
   "metadata": {},
   "outputs": [
    {
     "output_type": "stream",
     "name": "stdout",
     "text": [
      "Hello  Ahmed\nHello  Aisha\nHello  Adam\nHello  Joseph\nHello  Gabriel\n"
     ]
    }
   ],
   "source": [
    "names = [\"Ahmed\", \"Aisha\", \"Adam\", \"Joseph\", \"Gabriel\"]\n",
    "for i in names:\n",
    "  print(\"Hello \", i)"
   ]
  },
  {
   "cell_type": "code",
   "execution_count": 8,
   "metadata": {},
   "outputs": [
    {
     "output_type": "stream",
     "name": "stdout",
     "text": [
      "7 * 0 =   0\n7 * 1 =   7\n7 * 2 =   14\n7 * 3 =   21\n7 * 4 =   28\n7 * 5 =   35\n7 * 6 =   42\n7 * 7 =   49\n7 * 8 =   56\n7 * 9 =   63\n7 * 10 =   70\n"
     ]
    }
   ],
   "source": [
    "number = input(\"Enter the number: \")\n",
    "for i in range(11):\n",
    " print(\"{} * {} =  \".format(number,i), int(number)*i)"
   ]
  },
  {
   "cell_type": "code",
   "execution_count": 1,
   "metadata": {},
   "outputs": [
    {
     "output_type": "execute_result",
     "data": {
      "text/plain": [
       "True"
      ]
     },
     "metadata": {},
     "execution_count": 1
    }
   ],
   "source": [
    "x = \"zahire\"\n",
    "all(x)"
   ]
  },
  {
   "cell_type": "code",
   "execution_count": 2,
   "metadata": {},
   "outputs": [
    {
     "output_type": "execute_result",
     "data": {
      "text/plain": [
       "True"
      ]
     },
     "metadata": {},
     "execution_count": 2
    }
   ],
   "source": [
    "x = \"zahire \"\n",
    "all(x)"
   ]
  },
  {
   "cell_type": "code",
   "execution_count": 3,
   "metadata": {},
   "outputs": [
    {
     "output_type": "execute_result",
     "data": {
      "text/plain": [
       "False"
      ]
     },
     "metadata": {},
     "execution_count": 3
    }
   ],
   "source": [
    "x= [True, False]\n",
    "all(x)"
   ]
  },
  {
   "cell_type": "code",
   "execution_count": 4,
   "metadata": {},
   "outputs": [
    {
     "output_type": "execute_result",
     "data": {
      "text/plain": [
       "True"
      ]
     },
     "metadata": {},
     "execution_count": 4
    }
   ],
   "source": [
    "any(x)"
   ]
  },
  {
   "cell_type": "code",
   "execution_count": 6,
   "metadata": {},
   "outputs": [
    {
     "output_type": "execute_result",
     "data": {
      "text/plain": [
       "True"
      ]
     },
     "metadata": {},
     "execution_count": 6
    }
   ],
   "source": [
    "callable(map)"
   ]
  },
  {
   "cell_type": "code",
   "execution_count": 15,
   "metadata": {},
   "outputs": [
    {
     "output_type": "stream",
     "name": "stdout",
     "text": [
      "ppp\nrrr\nqqq\n"
     ]
    }
   ],
   "source": [
    "for x in set('pqr'):\n",
    "  print(x*3)"
   ]
  },
  {
   "cell_type": "code",
   "execution_count": 4,
   "metadata": {},
   "outputs": [
    {
     "output_type": "stream",
     "name": "stdout",
     "text": [
      "dict_keys(['john', 'peter'])\n"
     ]
    }
   ],
   "source": [
    "d = {\"john\":40, \"peter\":45}\n",
    "print(d.keys())"
   ]
  },
  {
   "cell_type": "code",
   "execution_count": 5,
   "metadata": {},
   "outputs": [
    {
     "output_type": "stream",
     "name": "stdout",
     "text": [
      "['john', 'peter']\n"
     ]
    }
   ],
   "source": [
    "d = {\"john\":40, \"peter\":45}\n",
    "print(list(d.keys()))"
   ]
  },
  {
   "cell_type": "code",
   "execution_count": 6,
   "metadata": {},
   "outputs": [
    {
     "output_type": "stream",
     "name": "stdout",
     "text": [
      "{'a': 1, 'b': [2, 3, 4]}\n"
     ]
    }
   ],
   "source": [
    "a={}\n",
    "a['a']=1\n",
    "a['b']=[2,3,4]\n",
    "print(a)"
   ]
  },
  {
   "cell_type": "code",
   "execution_count": 20,
   "metadata": {},
   "outputs": [
    {
     "output_type": "error",
     "ename": "AttributeError",
     "evalue": "'list' object has no attribute 'update'",
     "traceback": [
      "\u001b[1;31m---------------------------------------------------------------------------\u001b[0m",
      "\u001b[1;31mAttributeError\u001b[0m                            Traceback (most recent call last)",
      "\u001b[1;32m<ipython-input-20-962436fbb377>\u001b[0m in \u001b[0;36m<module>\u001b[1;34m\u001b[0m\n\u001b[0;32m      3\u001b[0m \u001b[0mz\u001b[0m\u001b[1;33m=\u001b[0m\u001b[0mlist\u001b[0m\u001b[1;33m(\u001b[0m\u001b[1;34m'abc'\u001b[0m\u001b[1;33m)\u001b[0m\u001b[1;33m\u001b[0m\u001b[1;33m\u001b[0m\u001b[0m\n\u001b[0;32m      4\u001b[0m \u001b[1;31m#z.add('san')\u001b[0m\u001b[1;33m\u001b[0m\u001b[1;33m\u001b[0m\u001b[1;33m\u001b[0m\u001b[0m\n\u001b[1;32m----> 5\u001b[1;33m \u001b[0mz\u001b[0m\u001b[1;33m.\u001b[0m\u001b[0mupdate\u001b[0m\u001b[1;33m(\u001b[0m\u001b[1;33m[\u001b[0m\u001b[1;34m'p'\u001b[0m\u001b[1;33m,\u001b[0m \u001b[1;34m'q'\u001b[0m\u001b[1;33m]\u001b[0m\u001b[1;33m)\u001b[0m\u001b[1;33m\u001b[0m\u001b[1;33m\u001b[0m\u001b[0m\n\u001b[0m\u001b[0;32m      6\u001b[0m \u001b[0mprint\u001b[0m\u001b[1;33m(\u001b[0m\u001b[0mz\u001b[0m\u001b[1;33m)\u001b[0m\u001b[1;33m\u001b[0m\u001b[1;33m\u001b[0m\u001b[0m\n",
      "\u001b[1;31mAttributeError\u001b[0m: 'list' object has no attribute 'update'"
     ]
    }
   ],
   "source": [
    "# The update() method inserts the specified items to the set\n",
    "\n",
    "z=list('abc')\n",
    "#z.add('san')\n",
    "z.update(['p', 'q'])\n",
    "print(z)"
   ]
  },
  {
   "cell_type": "code",
   "execution_count": 14,
   "metadata": {},
   "outputs": [
    {
     "output_type": "stream",
     "name": "stdout",
     "text": [
      "[(2019, 'Freshman'), (2020, 'Sophomore'), (2021, 'Junior'), (2022, 'Senior')]\n"
     ]
    }
   ],
   "source": [
    "college_years = ['Freshman', 'Sophomore', 'Junior', 'Senior']\n",
    "print(list(enumerate(college_years,2019)))"
   ]
  },
  {
   "cell_type": "code",
   "execution_count": 29,
   "metadata": {},
   "outputs": [
    {
     "output_type": "stream",
     "name": "stdout",
     "text": [
      "There is a lot of people in the pool.\nThere are some people in the pool.\n"
     ]
    }
   ],
   "source": [
    "num_people = 5\n",
    "if num_people > 0:\n",
    "  print(\"There is a lot of people in the pool.\")\n",
    "  if num_people > 4:\n",
    "      print(\"There are some people in the pool.\")\n",
    "      if num_people > 10:\n",
    "        print(\"There are a few people in the pool.\")\n",
    "else:\n",
    "  print(\"There is no one in the pool.\")"
   ]
  },
  {
   "cell_type": "code",
   "execution_count": 24,
   "metadata": {},
   "outputs": [
    {
     "output_type": "stream",
     "name": "stdout",
     "text": [
      "There are some people in the pool.\n"
     ]
    }
   ],
   "source": [
    "num_people = 5\n",
    "if num_people > 10:\n",
    " print(\"There is a lot of people in the pool.\")\n",
    "elif num_people > 4:\n",
    " print(\"There are some people in the pool.\")\n",
    "elif num_people > 0:\n",
    "  print(\"There are a few people in the pool.\")\n",
    "else:\n",
    "  print(\"There is no one in the pool.\")"
   ]
  },
  {
   "cell_type": "code",
   "execution_count": 33,
   "metadata": {},
   "outputs": [
    {
     "output_type": "stream",
     "name": "stdout",
     "text": [
      "3.5\n"
     ]
    }
   ],
   "source": [
    "count, fruit, price = (2, 'apple', 3.5)\n",
    "print(price)"
   ]
  },
  {
   "cell_type": "code",
   "execution_count": 39,
   "metadata": {},
   "outputs": [
    {
     "output_type": "stream",
     "name": "stdout",
     "text": [
      "17\n"
     ]
    }
   ],
   "source": [
    "\n",
    "def my_func(x,y):\n",
    " print(x+y)\n",
    "my_func(8,9)"
   ]
  },
  {
   "cell_type": "code",
   "execution_count": 43,
   "metadata": {},
   "outputs": [
    {
     "output_type": "stream",
     "name": "stdout",
     "text": [
      "1605.78147647843\n"
     ]
    }
   ],
   "source": [
    "#first_money = 1000\n",
    "#profit = 0.07\n",
    "def money(first_money,profit):\n",
    "  last_money = first_money + (first_money * profit)  # The money reach the amount at the end of first day \n",
    "  last_money += (last_money * profit)  # The money reach the amount at the end of second day \n",
    "  last_money += (last_money * profit)  # The money reach the amount at the end of third day \n",
    "  last_money += (last_money * profit)  # The money reach the amount at the end of fourth day \n",
    "  last_money += (last_money * profit)  # The money reach the amount at the end of fifth day \n",
    "  last_money += (last_money * profit)  # The money reach the amount at the end of sixth day \n",
    "  last_money += (last_money * profit)  # The money reach the amount at the end of seventh day \n",
    "  print(last_money)\n",
    "money(1000,0.07) "
   ]
  },
  {
   "cell_type": "code",
   "execution_count": 8,
   "metadata": {},
   "outputs": [
    {
     "output_type": "stream",
     "name": "stdout",
     "text": [
      "['3', '4']\n"
     ]
    }
   ],
   "source": [
    "x =  34\n",
    "print(list(str(x)))\n",
    "\n"
   ]
  },
  {
   "cell_type": "code",
   "execution_count": 53,
   "metadata": {},
   "outputs": [
    {
     "output_type": "stream",
     "name": "stdout",
     "text": [
      "Let's check if it is Armstrong number or not!\n121 is not Armstrong number\n"
     ]
    }
   ],
   "source": [
    "number = input(\"Enter the positive number: \")\n",
    "if number.isdigit():\n",
    "  if int(number) >= 0:\n",
    "      number = int(number)\n",
    "      print(\"Let's check if it is Armstrong number or not!\")\n",
    "      length_no = len(list(str(number)))\n",
    "      sum_no = 0   \n",
    "      for i in list(str(number)):   \n",
    "         sum_no += int(i)**length_no \n",
    "      if sum_no==number:\n",
    "         print(\"{} is an Armstrong number\".format(number)) \n",
    "      else:\n",
    "         print(\"{} is not Armstrong number\".format(number)) \n",
    "  else:\n",
    "      print(\" It is an invalid entry. Don't use non-numeric, float, or negative values!\") \n",
    "      \n",
    "else:\n",
    "      print(\" It is an invalid entry. Don't use non-numeric, float, or negative values!\")  \n",
    "      \n",
    "     "
   ]
  },
  {
   "cell_type": "code",
   "execution_count": 2,
   "metadata": {},
   "outputs": [
    {
     "output_type": "stream",
     "name": "stdout",
     "text": [
      "4 3\n"
     ]
    }
   ],
   "source": [
    "ex_list = [11, 2, 24, 61, 48, 33, 3]\n",
    "count_even = 0\n",
    "count_odd =0\n",
    "for i in ex_list:\n",
    "    if i%2 == 0:\n",
    "     count_even += 1\n",
    "    else:\n",
    "     count_odd +=1   \n",
    "print(count_odd,count_even)"
   ]
  },
  {
   "cell_type": "code",
   "execution_count": 17,
   "metadata": {},
   "outputs": [
    {
     "output_type": "error",
     "ename": "TypeError",
     "evalue": "unsupported operand type(s) for ** or pow(): 'str' and 'int'",
     "traceback": [
      "\u001b[1;31m---------------------------------------------------------------------------\u001b[0m",
      "\u001b[1;31mTypeError\u001b[0m                                 Traceback (most recent call last)",
      "\u001b[1;32m<ipython-input-17-ab1755f6443d>\u001b[0m in \u001b[0;36m<module>\u001b[1;34m\u001b[0m\n\u001b[0;32m      1\u001b[0m \u001b[1;32mfor\u001b[0m \u001b[0mi\u001b[0m \u001b[1;32min\u001b[0m \u001b[0mrange\u001b[0m\u001b[1;33m(\u001b[0m\u001b[1;36m1\u001b[0m\u001b[1;33m,\u001b[0m\u001b[1;36m10\u001b[0m\u001b[1;33m)\u001b[0m\u001b[1;33m:\u001b[0m\u001b[1;33m\u001b[0m\u001b[1;33m\u001b[0m\u001b[0m\n\u001b[1;32m----> 2\u001b[1;33m   \u001b[0mprint\u001b[0m\u001b[1;33m(\u001b[0m\u001b[0mstr\u001b[0m\u001b[1;33m(\u001b[0m\u001b[0mi\u001b[0m\u001b[1;33m)\u001b[0m\u001b[1;33m**\u001b[0m\u001b[0mi\u001b[0m\u001b[1;33m)\u001b[0m\u001b[1;33m\u001b[0m\u001b[1;33m\u001b[0m\u001b[0m\n\u001b[0m",
      "\u001b[1;31mTypeError\u001b[0m: unsupported operand type(s) for ** or pow(): 'str' and 'int'"
     ]
    }
   ],
   "source": [
    "for i in range(1,10):\n",
    "  print(str(i)**i)"
   ]
  },
  {
   "cell_type": "code",
   "execution_count": 22,
   "metadata": {},
   "outputs": [
    {
     "output_type": "stream",
     "name": "stdout",
     "text": [
      "1\n22\n333\n4444\n55555\n666666\n7777777\n88888888\n999999999\n"
     ]
    }
   ],
   "source": [
    "for i in range(1,10):\n",
    "  print(str(i)*i)"
   ]
  },
  {
   "cell_type": "code",
   "execution_count": 26,
   "metadata": {},
   "outputs": [
    {
     "output_type": "stream",
     "name": "stdout",
     "text": [
      "2775\n"
     ]
    }
   ],
   "source": [
    "sum = 0\n",
    "for i in range(1,75):\n",
    "  sum+=i\n",
    "print(sum) "
   ]
  },
  {
   "cell_type": "code",
   "execution_count": 31,
   "metadata": {},
   "outputs": [
    {
     "output_type": "execute_result",
     "data": {
      "text/plain": [
       "[0, 4, 8, 12, 16]"
      ]
     },
     "metadata": {},
     "execution_count": 31
    }
   ],
   "source": [
    "[i*2 for i in range(9) if not i%2]"
   ]
  },
  {
   "cell_type": "code",
   "execution_count": null,
   "metadata": {},
   "outputs": [],
   "source": [
    "numbers_list = [2,3,4,12,11,2,3,5,12,2]\n",
    "my_dict = {}\n",
    "for i in numbers_list:\n",
    "  if i not in my_dict:\n",
    "    my_dict[i] = numbers_list.count(i)\n",
    "print(my_dict)    \n",
    " \n",
    "  "
   ]
  },
  {
   "cell_type": "code",
   "execution_count": 1,
   "metadata": {},
   "outputs": [
    {
     "output_type": "stream",
     "name": "stdout",
     "text": [
      "5\n"
     ]
    }
   ],
   "source": [
    "def add(x,y):\n",
    "    print(x+y)\n",
    "add(2,3)    "
   ]
  },
  {
   "cell_type": "code",
   "execution_count": 6,
   "metadata": {},
   "outputs": [
    {
     "output_type": "stream",
     "name": "stdout",
     "text": [
      "-2\n"
     ]
    }
   ],
   "source": [
    "def cal(x,y,op):\n",
    "    if op=='+':\n",
    "     print(x+y)\n",
    "    elif op=='-':\n",
    "        print(x-y)\n",
    "    elif op=='*':\n",
    "        print(x*y)\n",
    "    elif op=='/':\n",
    "        print(x/y)\n",
    "    else:\n",
    "        print(\"Enter valid op value\")            \n",
    "\n",
    "cal(3,5,'-')    "
   ]
  },
  {
   "cell_type": "code",
   "execution_count": 3,
   "metadata": {},
   "outputs": [
    {
     "output_type": "stream",
     "name": "stdout",
     "text": [
      "[1, 1, 2, 3, 5, 8, 13, 21, 34, 55]\n"
     ]
    }
   ],
   "source": [
    "i=1\n",
    "while True:\n",
    "  my_list = []\n",
    "  my_list.append(i)\n",
    "  i =sum(my_list[-2:]) \n",
    "  if i==55:\n",
    "    break \n",
    "print(my_list)"
   ]
  },
  {
   "cell_type": "code",
   "execution_count": 7,
   "metadata": {},
   "outputs": [
    {
     "output_type": "stream",
     "name": "stdout",
     "text": [
      "2\n"
     ]
    }
   ],
   "source": [
    "a = [1,2]\n",
    "x=a[1]\n",
    "print(x)"
   ]
  },
  {
   "cell_type": "code",
   "execution_count": 10,
   "metadata": {},
   "outputs": [
    {
     "output_type": "stream",
     "name": "stdout",
     "text": [
      "3\n"
     ]
    }
   ],
   "source": [
    "def absolute(x):\n",
    "  \"\"\"\n",
    "  This function for absolute\n",
    "  \"\"\"\n",
    "  if x>0:\n",
    "    return x\n",
    "  else:\n",
    "    return -x \n",
    "print(absolute(-3))     "
   ]
  },
  {
   "cell_type": "code",
   "execution_count": 11,
   "metadata": {},
   "outputs": [
    {
     "output_type": "stream",
     "name": "stdout",
     "text": [
      "\n  This function for absolute\n  \n"
     ]
    }
   ],
   "source": [
    "print(absolute.__doc__)"
   ]
  },
  {
   "cell_type": "code",
   "execution_count": 12,
   "metadata": {},
   "outputs": [
    {
     "output_type": "stream",
     "name": "stdout",
     "text": [
      "200 ' nın karesi + 375 ' nın karesi = 425 nın karesi\n"
     ]
    }
   ],
   "source": [
    "for b in range(2,1000):\n",
    "    for a in range(1,b):\n",
    "        if a**2+b**2==(1000-a-b)**2:\n",
    "            print(\"{} ' nın karesi + {} ' nın karesi = {} nın karesi\".format(a,b,1000-a-b))\n",
    "            break\n",
    "         \n"
   ]
  },
  {
   "cell_type": "code",
   "execution_count": 33,
   "metadata": {
    "tags": []
   },
   "outputs": [
    {
     "output_type": "stream",
     "name": "stdout",
     "text": [
      "[220, 284, 1184, 1210, 2620, 2924, 5020, 5564, 6232, 6368]\n31626\n"
     ]
    }
   ],
   "source": [
    "# Evaluate the sum of all the amicable numbers under 10000.\n",
    "num_amicable=[]\n",
    "for i in range(1,10000):\n",
    "    div_a = []\n",
    "    div_b = []\n",
    "    for a in range(1,i):\n",
    "       if not i%a:\n",
    "        div_a.append(a)\n",
    "    total_a = sum(div_a)\n",
    "    for b in range(1,total_a):\n",
    "      if not total_a%b:\n",
    "        div_b.append(b)\n",
    "    total_b = sum(div_b) \n",
    "    if total_b==i and total_a!=i:\n",
    "        num_amicable.append(i)\n",
    "         \n",
    "           \n",
    "print(num_amicable)\n",
    "print(sum(num_amicable))     \n",
    "    #print(div_b,total_b)\n"
   ]
  },
  {
   "cell_type": "code",
   "execution_count": 41,
   "metadata": {},
   "outputs": [
    {
     "output_type": "stream",
     "name": "stdout",
     "text": [
      "[1, 3, 5, 7, 9] [1, 3, 5, 7, 9]\n"
     ]
    }
   ],
   "source": [
    "def slicer(*arb):\n",
    "    ev_list=[i for i in arb if i%2]\n",
    "    odd_list=[i for i in arb if i%2==1]\n",
    "   \n",
    "    return print(odd_list,ev_list)   \n",
    "slicer(1,2,3,4,5,6,7,8,9)        "
   ]
  },
  {
   "cell_type": "code",
   "execution_count": 49,
   "metadata": {},
   "outputs": [
    {
     "output_type": "stream",
     "name": "stdout",
     "text": [
      "['Beth', 'oscar']\n['26', '42']\n"
     ]
    }
   ],
   "source": [
    "def organizer(**kwga):\n",
    "    key_list=[x for x in kwga.keys()]\n",
    "    value_list=[y for y in kwga.values()]\n",
    "    print(key_list,value_list,sep=\"\\n\")\n",
    "organizer(Beth='26', oscar='42')     "
   ]
  },
  {
   "cell_type": "code",
   "execution_count": 3,
   "metadata": {},
   "outputs": [
    {
     "output_type": "stream",
     "name": "stdout",
     "text": [
      "For me, Bill Gates and Guido van Rossum are geniuses\n"
     ]
    }
   ],
   "source": [
    "genius=('Bill','Rossum','Guido van','Gates')\n",
    "def wrt(a,b,c,d):\n",
    "     print(\"For me,\",a,d,\"and\",c,b,\"are geniuses\")\n",
    "wrt(*genius)  "
   ]
  },
  {
   "cell_type": "code",
   "execution_count": 12,
   "metadata": {},
   "outputs": [
    {
     "output_type": "execute_result",
     "data": {
      "text/plain": [
       "[('mary', 'rye'), ('bella', 'fred'), ('linda', 'roland')]"
      ]
     },
     "metadata": {},
     "execution_count": 12
    }
   ],
   "source": [
    "dict_couple = {\"bride\" : [\"mary\", \"bella\", \"linda\"],\n",
    "               \"groom\" : [\"rye\", \"fred\", \"roland\"]}\n",
    "def couples(bride,groom):\n",
    "    my_list=[]\n",
    "    for x in zip(bride,groom):\n",
    "        my_list.append(x)\n",
    "    return my_list\n",
    "couples(**dict_couple)"
   ]
  },
  {
   "cell_type": "code",
   "execution_count": 13,
   "metadata": {},
   "outputs": [
    {
     "output_type": "execute_result",
     "data": {
      "text/plain": [
       "[('mary', 'rye'), ('bella', 'fred'), ('linda', 'roland')]"
      ]
     },
     "metadata": {},
     "execution_count": 13
    }
   ],
   "source": [
    "dict_couple = {\"bride\" : [\"mary\", \"bella\", \"linda\"],\n",
    "               \"groom\" : [\"rye\", \"fred\", \"roland\"]}\n",
    "def couples(bride,groom):\n",
    "    return[x for x in zip(bride,groom)]#return list(zip(bride,groom))\n",
    "couples(**dict_couple)   "
   ]
  },
  {
   "cell_type": "code",
   "execution_count": 16,
   "metadata": {},
   "outputs": [
    {
     "output_type": "execute_result",
     "data": {
      "text/plain": [
       "53"
      ]
     },
     "metadata": {},
     "execution_count": 16
    }
   ],
   "source": [
    "dict_friend=dict(Anna=40,Fred=45,john=75)\n",
    "def meaner(Anna,Fred,john):\n",
    "    age_li=[Anna,Fred,john]\n",
    "    avg=sum(age_li)//3\n",
    "    return avg  \n",
    "meaner(**dict_friend)  \n",
    "  "
   ]
  },
  {
   "cell_type": "code",
   "execution_count": 35,
   "metadata": {},
   "outputs": [
    {
     "output_type": "stream",
     "name": "stdout",
     "text": [
      "1 : odd\n2 : even\n3 : odd\n4 : even\n"
     ]
    }
   ],
   "source": [
    "m_li =[1,2,3,4]\n",
    "for i in m_li:\n",
    "  print( i,\":\",(lambda x:'odd' if x%2 else 'even')(i))\n",
    "\n"
   ]
  },
  {
   "cell_type": "code",
   "execution_count": 7,
   "metadata": {},
   "outputs": [
    {
     "output_type": "stream",
     "name": "stdout",
     "text": [
      "False\n"
     ]
    }
   ],
   "source": [
    "def parrot_trouble(talking, hour):\n",
    "    if 0<=hour<6 or hour>21: \n",
    "      if talking==True:\n",
    "        return True\n",
    "      else:\n",
    "          return False  \n",
    "    else:\n",
    "        return False \n",
    "\n",
    "print(parrot_trouble(False, 22))"
   ]
  },
  {
   "cell_type": "code",
   "execution_count": 9,
   "metadata": {},
   "outputs": [
    {
     "output_type": "stream",
     "name": "stdout",
     "text": [
      "15\n"
     ]
    }
   ],
   "source": [
    "x = 10\n",
    "  \n",
    "def my_function():\n",
    "    global x  # fix me!\n",
    "    x += 5 \n",
    "    print(x)\n",
    "my_function()    \n"
   ]
  },
  {
   "cell_type": "code",
   "execution_count": 10,
   "metadata": {},
   "outputs": [
    {
     "output_type": "error",
     "ename": "UnboundLocalError",
     "evalue": "local variable 'count' referenced before assignment",
     "traceback": [
      "\u001b[1;31m---------------------------------------------------------------------------\u001b[0m",
      "\u001b[1;31mUnboundLocalError\u001b[0m                         Traceback (most recent call last)",
      "\u001b[1;32m<ipython-input-10-e860c399251f>\u001b[0m in \u001b[0;36m<module>\u001b[1;34m\u001b[0m\n\u001b[0;32m      3\u001b[0m     \u001b[0mprint\u001b[0m\u001b[1;33m(\u001b[0m\u001b[0mcount\u001b[0m\u001b[1;33m)\u001b[0m\u001b[1;33m\u001b[0m\u001b[1;33m\u001b[0m\u001b[0m\n\u001b[0;32m      4\u001b[0m \u001b[1;33m\u001b[0m\u001b[0m\n\u001b[1;32m----> 5\u001b[1;33m \u001b[0mcounter\u001b[0m\u001b[1;33m(\u001b[0m\u001b[1;33m)\u001b[0m\u001b[1;33m\u001b[0m\u001b[1;33m\u001b[0m\u001b[0m\n\u001b[0m",
      "\u001b[1;32m<ipython-input-10-e860c399251f>\u001b[0m in \u001b[0;36mcounter\u001b[1;34m()\u001b[0m\n\u001b[0;32m      1\u001b[0m \u001b[1;32mdef\u001b[0m \u001b[0mcounter\u001b[0m\u001b[1;33m(\u001b[0m\u001b[1;33m)\u001b[0m\u001b[1;33m:\u001b[0m\u001b[1;33m\u001b[0m\u001b[1;33m\u001b[0m\u001b[0m\n\u001b[1;32m----> 2\u001b[1;33m     \u001b[0mcount\u001b[0m \u001b[1;33m+=\u001b[0m \u001b[1;36m1\u001b[0m\u001b[1;33m\u001b[0m\u001b[1;33m\u001b[0m\u001b[0m\n\u001b[0m\u001b[0;32m      3\u001b[0m     \u001b[0mprint\u001b[0m\u001b[1;33m(\u001b[0m\u001b[0mcount\u001b[0m\u001b[1;33m)\u001b[0m\u001b[1;33m\u001b[0m\u001b[1;33m\u001b[0m\u001b[0m\n\u001b[0;32m      4\u001b[0m \u001b[1;33m\u001b[0m\u001b[0m\n\u001b[0;32m      5\u001b[0m \u001b[0mcounter\u001b[0m\u001b[1;33m(\u001b[0m\u001b[1;33m)\u001b[0m\u001b[1;33m\u001b[0m\u001b[1;33m\u001b[0m\u001b[0m\n",
      "\u001b[1;31mUnboundLocalError\u001b[0m: local variable 'count' referenced before assignment"
     ]
    }
   ],
   "source": [
    "def counter():\n",
    "    count += 1\n",
    "    print(count)  \n",
    "\n",
    "counter()\n"
   ]
  },
  {
   "cell_type": "code",
   "execution_count": 12,
   "metadata": {},
   "outputs": [
    {
     "output_type": "stream",
     "name": "stdout",
     "text": [
      "hi\n"
     ]
    }
   ],
   "source": [
    "def myfunc1():\n",
    "  x = \"hi\"\n",
    "  def myfunc2():\n",
    "   \n",
    "    x = \"hello\"\n",
    "  myfunc2() \n",
    "  return x\n",
    "\n",
    "print(myfunc1())"
   ]
  },
  {
   "cell_type": "code",
   "execution_count": 55,
   "metadata": {},
   "outputs": [
    {
     "output_type": "execute_result",
     "data": {
      "text/plain": [
       "False"
      ]
     },
     "metadata": {},
     "execution_count": 55
    }
   ],
   "source": [
    "[1,2]==[2,1]"
   ]
  },
  {
   "cell_type": "code",
   "execution_count": 58,
   "metadata": {},
   "outputs": [
    {
     "output_type": "execute_result",
     "data": {
      "text/plain": [
       "True"
      ]
     },
     "metadata": {},
     "execution_count": 58
    }
   ],
   "source": [
    "def check(number_list,square_list):\n",
    "    for i in number_list:\n",
    "        if i**2 in square_list:\n",
    "           return True\n",
    "        else:\n",
    "           return False\n",
    "check([1,2,3,4],[1,4,9,16])\n"
   ]
  },
  {
   "cell_type": "code",
   "execution_count": 59,
   "metadata": {},
   "outputs": [
    {
     "output_type": "stream",
     "name": "stdout",
     "text": [
      "h2ll4\n"
     ]
    }
   ],
   "source": [
    "kaynak = \"aeiou\"\n",
    "hedef  = \"12345\"\n",
    "çeviri_tablosu = str.maketrans(kaynak, hedef)\n",
    "metin = \"hello\"\n",
    "print(metin.translate(çeviri_tablosu))"
   ]
  },
  {
   "cell_type": "code",
   "execution_count": 61,
   "metadata": {},
   "outputs": [
    {
     "output_type": "stream",
     "name": "stdout",
     "text": [
      "[(1, 2, 3, 4), (1, 2, 4, 3), (1, 3, 2, 4), (1, 3, 4, 2), (1, 4, 2, 3), (1, 4, 3, 2), (2, 1, 3, 4), (2, 1, 4, 3), (2, 3, 1, 4), (2, 3, 4, 1), (2, 4, 1, 3), (2, 4, 3, 1), (3, 1, 2, 4), (3, 1, 4, 2), (3, 2, 1, 4), (3, 2, 4, 1), (3, 4, 1, 2), (3, 4, 2, 1), (4, 1, 2, 3), (4, 1, 3, 2), (4, 2, 1, 3), (4, 2, 3, 1), (4, 3, 1, 2), (4, 3, 2, 1)]\n"
     ]
    }
   ],
   "source": [
    "liste = [1,2,3,4]\n",
    "per_liste = [(a, b, c, d) for a in liste for b in liste for c in liste for d in liste if ( a != b and b != c and a != c and a!=d and b!=d and c!=d)]\n",
    "print(per_liste, sep=\"\\n\")"
   ]
  },
  {
   "cell_type": "code",
   "execution_count": 62,
   "metadata": {},
   "outputs": [
    {
     "output_type": "error",
     "ename": "TypeError",
     "evalue": "'str' object does not support item assignment",
     "traceback": [
      "\u001b[1;31m---------------------------------------------------------------------------\u001b[0m",
      "\u001b[1;31mTypeError\u001b[0m                                 Traceback (most recent call last)",
      "\u001b[1;32m<ipython-input-62-a26d86948a3b>\u001b[0m in \u001b[0;36m<module>\u001b[1;34m\u001b[0m\n\u001b[0;32m      1\u001b[0m \u001b[0mexample\u001b[0m \u001b[1;33m=\u001b[0m \u001b[1;34m\"snow world\"\u001b[0m\u001b[1;33m\u001b[0m\u001b[1;33m\u001b[0m\u001b[0m\n\u001b[1;32m----> 2\u001b[1;33m \u001b[0mexample\u001b[0m\u001b[1;33m[\u001b[0m\u001b[1;36m3\u001b[0m\u001b[1;33m]\u001b[0m \u001b[1;33m=\u001b[0m \u001b[1;34m's'\u001b[0m\u001b[1;33m\u001b[0m\u001b[1;33m\u001b[0m\u001b[0m\n\u001b[0m\u001b[0;32m      3\u001b[0m \u001b[0mprint\u001b[0m\u001b[1;33m(\u001b[0m\u001b[0mexample\u001b[0m\u001b[1;33m)\u001b[0m\u001b[1;33m\u001b[0m\u001b[1;33m\u001b[0m\u001b[0m\n",
      "\u001b[1;31mTypeError\u001b[0m: 'str' object does not support item assignment"
     ]
    }
   ],
   "source": [
    "example = \"snow world\"\n",
    "example[3] = 's'\n",
    "print(example)"
   ]
  },
  {
   "cell_type": "code",
   "execution_count": 64,
   "metadata": {},
   "outputs": [
    {
     "output_type": "error",
     "ename": "SyntaxError",
     "evalue": "EOL while scanning string literal (<ipython-input-64-44d614ed862b>, line 2)",
     "traceback": [
      "\u001b[1;36m  File \u001b[1;32m\"<ipython-input-64-44d614ed862b>\"\u001b[1;36m, line \u001b[1;32m2\u001b[0m\n\u001b[1;33m    print(s.strip('\\'))\u001b[0m\n\u001b[1;37m                       ^\u001b[0m\n\u001b[1;31mSyntaxError\u001b[0m\u001b[1;31m:\u001b[0m EOL while scanning string literal\n"
     ]
    }
   ],
   "source": [
    "s = \"\\t\\tWorld\\n\"\n",
    "print(s.strip())"
   ]
  },
  {
   "cell_type": "code",
   "execution_count": null,
   "metadata": {},
   "outputs": [],
   "source": [
    "example = \"helen\"\n",
    "print(example.find(\"e\"))"
   ]
  },
  {
   "cell_type": "code",
   "execution_count": 8,
   "metadata": {},
   "outputs": [
    {
     "output_type": "execute_result",
     "data": {
      "text/plain": [
       "2"
      ]
     },
     "metadata": {},
     "execution_count": 8
    }
   ],
   "source": [
    "def fun(s):\n",
    "    return lambda x : s(x)\n",
    "fun(max)([1,2])    "
   ]
  },
  {
   "cell_type": "code",
   "execution_count": 9,
   "metadata": {},
   "outputs": [
    {
     "output_type": "execute_result",
     "data": {
      "text/plain": [
       "120"
      ]
     },
     "metadata": {},
     "execution_count": 9
    }
   ],
   "source": [
    "import math\n",
    "math.factorial(5)"
   ]
  },
  {
   "cell_type": "code",
   "execution_count": 10,
   "metadata": {},
   "outputs": [
    {
     "output_type": "stream",
     "name": "stdout",
     "text": [
      "['__doc__', '__loader__', '__name__', '__package__', '__spec__', 'acos', 'acosh', 'asin', 'asinh', 'atan', 'atan2', 'atanh', 'ceil', 'comb', 'copysign', 'cos', 'cosh', 'degrees', 'dist', 'e', 'erf', 'erfc', 'exp', 'expm1', 'fabs', 'factorial', 'floor', 'fmod', 'frexp', 'fsum', 'gamma', 'gcd', 'hypot', 'inf', 'isclose', 'isfinite', 'isinf', 'isnan', 'isqrt', 'lcm', 'ldexp', 'lgamma', 'log', 'log10', 'log1p', 'log2', 'modf', 'nan', 'nextafter', 'perm', 'pi', 'pow', 'prod', 'radians', 'remainder', 'sin', 'sinh', 'sqrt', 'tan', 'tanh', 'tau', 'trunc', 'ulp']\n"
     ]
    }
   ],
   "source": [
    "print(dir(math))"
   ]
  },
  {
   "cell_type": "code",
   "execution_count": 11,
   "metadata": {},
   "outputs": [
    {
     "output_type": "execute_result",
     "data": {
      "text/plain": [
       "3.141592653589793"
      ]
     },
     "metadata": {},
     "execution_count": 11
    }
   ],
   "source": [
    "math.pi"
   ]
  },
  {
   "cell_type": "code",
   "execution_count": 13,
   "metadata": {},
   "outputs": [
    {
     "output_type": "execute_result",
     "data": {
      "text/plain": [
       "2.302585092994046"
      ]
     },
     "metadata": {},
     "execution_count": 13
    }
   ],
   "source": [
    "math.log(10)"
   ]
  },
  {
   "cell_type": "code",
   "execution_count": 14,
   "metadata": {},
   "outputs": [
    {
     "output_type": "error",
     "ename": "NameError",
     "evalue": "name 'pi' is not defined",
     "traceback": [
      "\u001b[1;31m---------------------------------------------------------------------------\u001b[0m",
      "\u001b[1;31mNameError\u001b[0m                                 Traceback (most recent call last)",
      "\u001b[1;32m<ipython-input-14-9e2d2bd32686>\u001b[0m in \u001b[0;36m<module>\u001b[1;34m\u001b[0m\n\u001b[1;32m----> 1\u001b[1;33m \u001b[0mprint\u001b[0m\u001b[1;33m(\u001b[0m\u001b[0mpi\u001b[0m\u001b[1;33m)\u001b[0m\u001b[1;33m\u001b[0m\u001b[1;33m\u001b[0m\u001b[0m\n\u001b[0m",
      "\u001b[1;31mNameError\u001b[0m: name 'pi' is not defined"
     ]
    }
   ],
   "source": [
    "print(pi)"
   ]
  },
  {
   "cell_type": "code",
   "execution_count": 15,
   "metadata": {},
   "outputs": [
    {
     "output_type": "execute_result",
     "data": {
      "text/plain": [
       "'!\"#$%&\\'()*+,-./:;<=>?@[\\\\]^_`{|}~'"
      ]
     },
     "metadata": {},
     "execution_count": 15
    }
   ],
   "source": [
    "import string\n",
    "string.punctuation"
   ]
  },
  {
   "cell_type": "code",
   "execution_count": 19,
   "metadata": {},
   "outputs": [
    {
     "output_type": "stream",
     "name": "stdout",
     "text": [
      "2021-05-08 13:54:32.409904\n"
     ]
    }
   ],
   "source": [
    "import datetime\n",
    "\n",
    "\n"
   ]
  },
  {
   "cell_type": "code",
   "execution_count": 22,
   "metadata": {},
   "outputs": [
    {
     "output_type": "stream",
     "name": "stdout",
     "text": [
      "Fullstack\n"
     ]
    }
   ],
   "source": [
    "from random import choice\n",
    "city=['Fullstack','Data','Aws','Fullstack']\n",
    "print(choice(city))"
   ]
  },
  {
   "cell_type": "code",
   "execution_count": 8,
   "metadata": {},
   "outputs": [
    {
     "output_type": "stream",
     "name": "stdout",
     "text": [
      "not bad\n"
     ]
    }
   ],
   "source": [
    "def not_string(word):\n",
    "    if 'not' not in word: \n",
    "        return 'not '+word\n",
    "    else:\n",
    "        return word\n",
    "print(not_string('not bad'))      "
   ]
  },
  {
   "cell_type": "code",
   "execution_count": 19,
   "metadata": {},
   "outputs": [
    {
     "output_type": "stream",
     "name": "stdout",
     "text": [
      "ktchen\n"
     ]
    }
   ],
   "source": [
    "def missing_char(word, n):\n",
    "    new_word=''\n",
    "    w_list=list(word)\n",
    "    w_list.pop(n)\n",
    "    for i in w_list:\n",
    "        new_word+=i\n",
    "    return new_word\n",
    "    \n",
    "print(missing_char('kitchen', 1))    "
   ]
  },
  {
   "cell_type": "code",
   "execution_count": 15,
   "metadata": {},
   "outputs": [
    {
     "output_type": "error",
     "ename": "TypeError",
     "evalue": "'str' object does not support item assignment",
     "traceback": [
      "\u001b[1;31m---------------------------------------------------------------------------\u001b[0m",
      "\u001b[1;31mTypeError\u001b[0m                                 Traceback (most recent call last)",
      "\u001b[1;32m<ipython-input-15-616a7ec3f27a>\u001b[0m in \u001b[0;36m<module>\u001b[1;34m\u001b[0m\n\u001b[0;32m      1\u001b[0m \u001b[0mword\u001b[0m\u001b[1;33m=\u001b[0m \u001b[1;34m'kitchen'\u001b[0m\u001b[1;33m\u001b[0m\u001b[1;33m\u001b[0m\u001b[0m\n\u001b[1;32m----> 2\u001b[1;33m \u001b[0mword\u001b[0m\u001b[1;33m.\u001b[0m\u001b[0msplit\u001b[0m\u001b[1;33m(\u001b[0m\u001b[1;33m)\u001b[0m\u001b[1;33m[\u001b[0m\u001b[1;36m0\u001b[0m\u001b[1;33m]\u001b[0m\u001b[1;33m[\u001b[0m\u001b[1;36m4\u001b[0m\u001b[1;33m]\u001b[0m\u001b[1;33m=\u001b[0m\u001b[1;34m''\u001b[0m\u001b[1;33m\u001b[0m\u001b[1;33m\u001b[0m\u001b[0m\n\u001b[0m",
      "\u001b[1;31mTypeError\u001b[0m: 'str' object does not support item assignment"
     ]
    }
   ],
   "source": [
    "word= 'kitchen'\n",
    "word."
   ]
  },
  {
   "cell_type": "code",
   "execution_count": 2,
   "metadata": {},
   "outputs": [
    {
     "output_type": "stream",
     "name": "stdout",
     "text": [
      "6.0 6.0 6.0 6.0\n"
     ]
    }
   ],
   "source": [
    "nums1=[9,6,7,4]\n",
    "nums2=[3,6,5,8]\n",
    "print(*map(lambda x,y: (x+y)/2,nums1,nums2))"
   ]
  },
  {
   "cell_type": "code",
   "execution_count": 14,
   "metadata": {},
   "outputs": [
    {
     "output_type": "stream",
     "name": "stdout",
     "text": [
      "21\n"
     ]
    }
   ],
   "source": [
    "mytring = 'Her soru cozumuyle kodlamaaaaa becerim gelisiyor'\n",
    "#vowel = list('aeiuo')\n",
    "print(list(map(lambda x :True if x in 'aeiuo' else False, mytring)).count(True)) "
   ]
  },
  {
   "cell_type": "code",
   "execution_count": null,
   "metadata": {},
   "outputs": [],
   "source": [
    "def getCount(string):\n",
    "    return sum(vowel in 'aeiou' for vowel in string)\n",
    "string = 'Her soru cozumuyle kodlama becerim gelisiyor.'\n",
    "getCount(string)"
   ]
  },
  {
   "cell_type": "code",
   "execution_count": 21,
   "metadata": {},
   "outputs": [
    {
     "output_type": "stream",
     "name": "stdout",
     "text": [
      "swim\nme\nkiwi\n"
     ]
    }
   ],
   "source": [
    "words=['apple','swim','clock','me','kiwi','banana']\n",
    "for i in filter(lambda x: len(x)<5 ,words):\n",
    "    print(i)\n",
    "#print(*filter(lambda x: len(x)<5 ,words),sep='\\n')"
   ]
  },
  {
   "cell_type": "code",
   "execution_count": 23,
   "metadata": {},
   "outputs": [
    {
     "output_type": "stream",
     "name": "stdout",
     "text": [
      "Vowels are : ['a', 'e', 'i']\n"
     ]
    }
   ],
   "source": [
    "first_ten=['a','b','c','d','e','f','g','h','i','j']\n",
    "print('Vowels are :',[i for i in filter(lambda x: x in 'aeiou',first_ten)])"
   ]
  },
  {
   "cell_type": "code",
   "execution_count": 26,
   "metadata": {},
   "outputs": [
    {
     "output_type": "execute_result",
     "data": {
      "text/plain": [
       "3"
      ]
     },
     "metadata": {},
     "execution_count": 26
    }
   ],
   "source": [
    "def smallest_word(sentence):\n",
    "  return min([len(i) for i in sentence.split()])\n",
    "smallest_word('Her soru cozumuyle kodlama becerim gelisiyor.')"
   ]
  },
  {
   "cell_type": "code",
   "execution_count": 41,
   "metadata": {},
   "outputs": [
    {
     "output_type": "stream",
     "name": "stdout",
     "text": [
      "The simplify version is : 5\n"
     ]
    }
   ],
   "source": [
    "def simplify(x):\n",
    "    numbers=[int(i) for i in x.split('/')]\n",
    "    division_list=[]\n",
    "    for i in range(2,min(numbers)+1):\n",
    "        if numbers[1]%i==0 and numbers[0]%i==0:\n",
    "            division_list.append(i)\n",
    "    if division_list!=[]:\n",
    "        pay=numbers[0]//max(division_list)\n",
    "        payda=numbers[1]//max(division_list)\n",
    "        if payda==1:\n",
    "            print(f'The simplify version is : {pay}')\n",
    "        else:\n",
    "            print(f'The simplify version is : {pay}/{payda}')\n",
    "      \n",
    "    else:\n",
    "        print('There is no simplify version')\n",
    "\n",
    "simplify('100/20')    "
   ]
  },
  {
   "cell_type": "code",
   "execution_count": 42,
   "metadata": {},
   "outputs": [
    {
     "output_type": "stream",
     "name": "stdout",
     "text": [
      "\"2\"\n"
     ]
    }
   ],
   "source": [
    "def fraction(s):\n",
    "    n1 = int ((s.split('/'))[0])\n",
    "    n2 = int ((s.split('/'))[1])\n",
    "    if n1<n2:\n",
    "        if  not n2 % n1:\n",
    "            print(f'\"1/{n2//n1}\"')\n",
    "        else:\n",
    "            for x in range(n1-1,0,-1):\n",
    "                if not n1 % x and not n2 % x and x!=1:\n",
    "                    print (f'\"{n1//x}/{n2//x}\"')\n",
    "                elif x==1:\n",
    "                    print(f'{n1}/{n2}')\n",
    "    elif n1==n2:\n",
    "        print(1)\n",
    "    else:\n",
    "        print (f'\"{n1//n2}\"')\n",
    "s = '8/4'\n",
    "fraction(s)"
   ]
  },
  {
   "cell_type": "code",
   "execution_count": 14,
   "metadata": {},
   "outputs": [
    {
     "output_type": "execute_result",
     "data": {
      "text/plain": [
       "False"
      ]
     },
     "metadata": {},
     "execution_count": 14
    }
   ],
   "source": [
    "def can_see_stage(check_list):\n",
    "    for i in range(len(check_list[0])):\n",
    "        for j in range(len(check_list)-1):\n",
    "            if check_list[j][i]>=check_list[j+1][i]:\n",
    "                return False\n",
    "    return True        \n",
    "can_see_stage([[1, 2, 3, 2, 1, 2],\n",
    "[2, 4, 4, 3, 2, 2],\n",
    "[5, 5, 5, 5, 4, 4],\n",
    "[6, 6, 7, 6, 5, 5]])\n",
    "         \n",
    "           \n",
    "\n",
    "        \n",
    "    \n"
   ]
  },
  {
   "cell_type": "code",
   "execution_count": 31,
   "metadata": {},
   "outputs": [
    {
     "output_type": "stream",
     "name": "stdout",
     "text": [
      "False\n"
     ]
    }
   ],
   "source": [
    "def can_see_stage(l):\n",
    "    check=[False for i in range(len(l[0])) for j in range(len(l)-1) if l[j][i]>=l[j+1][i]]\n",
    "    print(False) if check!='' else print(True) \n",
    "    \n",
    "    \n",
    "can_see_stage([\n",
    "  [1, 2, 3,4],\n",
    "  [4, 5, 6,5],\n",
    "  [7, 8, 9,3]\n",
    "])  "
   ]
  },
  {
   "cell_type": "code",
   "execution_count": 35,
   "metadata": {},
   "outputs": [
    {
     "output_type": "stream",
     "name": "stdout",
     "text": [
      "(1, 4, 7) (2, 5, 8) (3, 6, 9) (4, 5, 7)\n"
     ]
    }
   ],
   "source": [
    "x=[\n",
    "  [1, 2, 3,4],\n",
    "  [4, 5, 6,5],\n",
    "  [7, 8, 9,7]\n",
    "]\n",
    "print(*zip(*x))\n"
   ]
  },
  {
   "cell_type": "code",
   "execution_count": 51,
   "metadata": {},
   "outputs": [
    {
     "output_type": "execute_result",
     "data": {
      "text/plain": [
       "True"
      ]
     },
     "metadata": {},
     "execution_count": 51
    }
   ],
   "source": [
    "def see(l):\n",
    "    for x in range(len(l)-1,0,-1):\n",
    "        if l[x][x] <= l[x-1][x-1]:\n",
    "            return False\n",
    "    return True\n",
    "see[\n",
    "  [1, 2, 3,4],\n",
    "  [4, 5, 6,5],\n",
    "  [7, 8, 9,3]\n",
    "]()    \n"
   ]
  },
  {
   "cell_type": "code",
   "execution_count": 2,
   "metadata": {},
   "outputs": [
    {
     "output_type": "stream",
     "name": "stdout",
     "text": [
      "False\n"
     ]
    }
   ],
   "source": [
    "if 3<3:\n",
    "    print(True)\n",
    "else:\n",
    "    print(False)    "
   ]
  },
  {
   "cell_type": "code",
   "execution_count": 13,
   "metadata": {},
   "outputs": [
    {
     "output_type": "execute_result",
     "data": {
      "text/plain": [
       "True"
      ]
     },
     "metadata": {},
     "execution_count": 13
    }
   ],
   "source": [
    "def see(l):\n",
    "    for x in range(len(l)-1,0,-1):\n",
    "        for y in range(len(l)-1,-1,-1):\n",
    "            if l[x][y] <= l[x-1][y]:\n",
    "                return False\n",
    "    return True\n",
    "see([[1, 2, 3, 2, 1, 2],\n",
    "[2, 4, 4, 3, 2, 2],\n",
    "[5, 5, 5, 5, 4, 4],\n",
    "[6, 6, 7, 6, 5, 5]])    "
   ]
  },
  {
   "cell_type": "code",
   "execution_count": 32,
   "metadata": {},
   "outputs": [
    {
     "output_type": "execute_result",
     "data": {
      "text/plain": [
       "False"
      ]
     },
     "metadata": {},
     "execution_count": 32
    }
   ],
   "source": [
    "def can_see(liste):\n",
    "     return all([False if i[k]>=i[k+1] else True for i in zip(*liste) for k in range(len(i)-1)])\n",
    "can_see([[1, 2, 3, 2, 1, 2],\n",
    "[2, 4, 4, 3, 2, 2],\n",
    "[5, 5, 5, 5, 4, 4],\n",
    "[6, 6, 7, 6, 5, 5]])     "
   ]
  },
  {
   "cell_type": "code",
   "execution_count": 38,
   "metadata": {},
   "outputs": [
    {
     "output_type": "stream",
     "name": "stdout",
     "text": [
      "4\n"
     ]
    }
   ],
   "source": [
    "if True:\n",
    "    n = int(input())\n",
    "    arr = map(int, input().split())\n",
    "print (sorted(set(arr))[-2])"
   ]
  },
  {
   "cell_type": "code",
   "execution_count": 44,
   "metadata": {},
   "outputs": [
    {
     "output_type": "stream",
     "name": "stdout",
     "text": [
      "10\n"
     ]
    }
   ],
   "source": [
    "def addup(x):\n",
    "    print(sum([i for i in range(x+1)]))\n",
    "addup(4)"
   ]
  },
  {
   "cell_type": "code",
   "execution_count": 1,
   "metadata": {},
   "outputs": [
    {
     "output_type": "error",
     "ename": "NameError",
     "evalue": "name 'char' is not defined",
     "traceback": [
      "\u001b[1;31m---------------------------------------------------------------------------\u001b[0m",
      "\u001b[1;31mNameError\u001b[0m                                 Traceback (most recent call last)",
      "\u001b[1;32m<ipython-input-1-afc103dcab0a>\u001b[0m in \u001b[0;36m<module>\u001b[1;34m\u001b[0m\n\u001b[1;32m----> 1\u001b[1;33m \u001b[0mchar\u001b[0m\u001b[1;33m(\u001b[0m\u001b[0mT\u001b[0m\u001b[1;33m)\u001b[0m\u001b[1;33m\u001b[0m\u001b[1;33m\u001b[0m\u001b[0m\n\u001b[0m",
      "\u001b[1;31mNameError\u001b[0m: name 'char' is not defined"
     ]
    }
   ],
   "source": [
    "char(T)"
   ]
  },
  {
   "cell_type": "code",
   "execution_count": 2,
   "metadata": {},
   "outputs": [
    {
     "output_type": "error",
     "ename": "NameError",
     "evalue": "name 'char' is not defined",
     "traceback": [
      "\u001b[1;31m---------------------------------------------------------------------------\u001b[0m",
      "\u001b[1;31mNameError\u001b[0m                                 Traceback (most recent call last)",
      "\u001b[1;32m<ipython-input-2-c0256925caab>\u001b[0m in \u001b[0;36m<module>\u001b[1;34m\u001b[0m\n\u001b[1;32m----> 1\u001b[1;33m \u001b[0mchar\u001b[0m\u001b[1;33m(\u001b[0m\u001b[1;36m54\u001b[0m\u001b[1;33m)\u001b[0m\u001b[1;33m\u001b[0m\u001b[1;33m\u001b[0m\u001b[0m\n\u001b[0m",
      "\u001b[1;31mNameError\u001b[0m: name 'char' is not defined"
     ]
    }
   ],
   "source": [
    "char(54)"
   ]
  },
  {
   "cell_type": "code",
   "execution_count": 62,
   "metadata": {},
   "outputs": [
    {
     "output_type": "execute_result",
     "data": {
      "text/plain": [
       "'F1 G1 Bir Kolay Test A B C D E'"
      ]
     },
     "metadata": {},
     "execution_count": 62
    }
   ],
   "source": [
    "def rewrite(s):\n",
    "    new=''\n",
    "    w_dict={}\n",
    "    w_list=s.split()\n",
    "    for i in w_list:\n",
    "        for k in i:\n",
    "            if k.isdigit():\n",
    "              w_dict[k]=i\n",
    "    for j in sorted(w_dict.keys()):\n",
    "        new+=w_dict[j][:-1]+' '\n",
    "    \n",
    "           \n",
    "    return new.title().strip()\n",
    "\n",
    "rewrite(\"Bir2 bu1 test4 kolay3 a5 b6 c7 d8 e9 f10 g11\")"
   ]
  },
  {
   "cell_type": "code",
   "execution_count": 71,
   "metadata": {},
   "outputs": [
    {
     "output_type": "execute_result",
     "data": {
      "text/plain": [
       "'Bu bir kolay test a b c d e f g'"
      ]
     },
     "metadata": {},
     "execution_count": 71
    }
   ],
   "source": [
    "def indexle(cumle):\n",
    "  sozluk={}\n",
    "  yeni=\"\"\n",
    "  for i in cumle.split():\n",
    "    for k in i:\n",
    "      if k.isdigit():\n",
    "        sozluk[int(i[i.index(k):])]=i[:i.index(k)]\n",
    "        break\n",
    "  for i in sorted(sozluk) :\n",
    "    yeni+=(sozluk[i]+\" \")\n",
    "  return yeni.strip().lower().capitalize()\n",
    "indexle(\"Bir2 bu1 test4 kolay3 a5 b6 c7 d8 e9 f10 g11\")  "
   ]
  },
  {
   "cell_type": "code",
   "execution_count": 73,
   "metadata": {},
   "outputs": [
    {
     "output_type": "stream",
     "name": "stdout",
     "text": [
      "F g bu bir kolay test a b c d e\n"
     ]
    }
   ],
   "source": [
    "s =  \"Bir2 bu1 test4 kolay3 a5 b6 c7 d8 e9 f10 g11\"\n",
    "s1 = ' '.join(sorted(s.split(), key=lambda w: sorted(w)))\n",
    "print(''.join( filter(lambda x:  not x.isnumeric(), s1)).capitalize())"
   ]
  },
  {
   "cell_type": "code",
   "execution_count": 87,
   "metadata": {},
   "outputs": [
    {
     "output_type": "execute_result",
     "data": {
      "text/plain": [
       "'Bu Bir Kolay Test A B C D E F G'"
      ]
     },
     "metadata": {},
     "execution_count": 87
    }
   ],
   "source": [
    "def rewrite(s):\n",
    "    new=''\n",
    "    w_dict={}\n",
    "    w_list=s.split()\n",
    "    for i in w_list:\n",
    "        num=''\n",
    "        for k in i:\n",
    "            if k.isdigit():\n",
    "                num+=k\n",
    "        w_dict[int(num)]=i        \n",
    "    for j in sorted(w_dict.keys()):\n",
    "        for i in w_dict[j]:\n",
    "            if not i.isdigit():\n",
    "                new+=i\n",
    "        new+=' ' \n",
    "           \n",
    "    return new.title().strip()\n",
    "   \n",
    "rewrite(\"Bir2 bu1 test4 kolay3 a5 b6 c7 d8 e9 f10 g11\")"
   ]
  },
  {
   "cell_type": "code",
   "execution_count": 91,
   "metadata": {},
   "outputs": [
    {
     "output_type": "stream",
     "name": "stdout",
     "text": [
      "['BPF', 'LOG4', 'NV_MAGICCONST', 'RECIP_BPF', 'Random', 'SG_MAGICCONST', 'SystemRandom', 'TWOPI', '_Sequence', '_Set', '__all__', '__builtins__', '__cached__', '__doc__', '__file__', '__loader__', '__name__', '__package__', '__spec__', '_accumulate', '_acos', '_bisect', '_ceil', '_cos', '_e', '_exp', '_floor', '_inst', '_log', '_os', '_pi', '_random', '_repeat', '_sha512', '_sin', '_sqrt', '_test', '_test_generator', '_urandom', '_warn', 'betavariate', 'choice', 'choices', 'expovariate', 'gammavariate', 'gauss', 'getrandbits', 'getstate', 'lognormvariate', 'normalvariate', 'paretovariate', 'randbytes', 'randint', 'random', 'randrange', 'sample', 'seed', 'setstate', 'shuffle', 'triangular', 'uniform', 'vonmisesvariate', 'weibullvariate']\n"
     ]
    }
   ],
   "source": [
    "import random\n",
    "print(dir(random))"
   ]
  },
  {
   "cell_type": "code",
   "execution_count": 8,
   "metadata": {},
   "outputs": [
    {
     "output_type": "stream",
     "name": "stdout",
     "text": [
      "no\n"
     ]
    }
   ],
   "source": [
    "def num(n):\n",
    "    if n==sum([i for i in range(1,n) if n%i==0]):\n",
    "        print('yes')\n",
    "    else:\n",
    "         print('no')\n",
    "\n",
    "num(10)"
   ]
  },
  {
   "cell_type": "code",
   "execution_count": 11,
   "metadata": {},
   "outputs": [
    {
     "output_type": "stream",
     "name": "stdout",
     "text": [
      "no\n"
     ]
    }
   ],
   "source": [
    "def w(s):\n",
    "    if s==s[::-1]:\n",
    "        print('yes')\n",
    "    else:\n",
    "        print('no') \n",
    "w(\"nurses run\")           "
   ]
  },
  {
   "cell_type": "code",
   "execution_count": 34,
   "metadata": {},
   "outputs": [
    {
     "output_type": "execute_result",
     "data": {
      "text/plain": [
       "True"
      ]
     },
     "metadata": {},
     "execution_count": 34
    }
   ],
   "source": [
    "def same_word(s):\n",
    "    new_text = \"\".join(filter(str.isalpha,s)).lower()\n",
    "    return new_text == new_text[::-1]\n",
    "same_word(\"nurses run\")   "
   ]
  },
  {
   "cell_type": "code",
   "execution_count": 19,
   "metadata": {},
   "outputs": [
    {
     "output_type": "execute_result",
     "data": {
      "text/plain": [
       "4"
      ]
     },
     "metadata": {},
     "execution_count": 19
    }
   ],
   "source": [
    "len(str(1.24))"
   ]
  },
  {
   "cell_type": "code",
   "execution_count": 107,
   "metadata": {},
   "outputs": [
    {
     "output_type": "execute_result",
     "data": {
      "text/plain": [
       "'1 + 3/10 + 4/1000'"
      ]
     },
     "metadata": {},
     "execution_count": 107
    }
   ],
   "source": [
    "def sayı(n):\n",
    "    new_n=''\n",
    "                    #ilk float mı kontrol edelim!!\n",
    "    if '.' in str(n):\n",
    "        s=list(str(n)).index('.')\n",
    "        len_n=len(str(n))\n",
    "        for j in range(s):\n",
    "          if str(n)[j]!='0':\n",
    "            new_n+= f'{int(str(n)[j])*(10**(s-j-1))}'+' + '\n",
    "          else:\n",
    "            new_n+=''\n",
    "            j+=1  \n",
    "        for i in range(s+1,len_n):\n",
    "          if str(n)[i]!='0':  \n",
    "             new_n+=f'{str(n)[i]}/{10**(i-s)}'+' + '\n",
    "          else:\n",
    "            new_n+=''\n",
    "            i+=1  \n",
    "        return new_n.strip(' +')        \n",
    "    else:                  #integer kısmı için\n",
    "        len_n=len(str(n))\n",
    "        for i in range(len_n,0,-1):\n",
    "             if str(n)[len_n-i]!='0':\n",
    "               new_n+= f'{int(str(n)[len_n-i])*(10**(i-1))}'+' + '\n",
    "             else:\n",
    "               new_n+=''\n",
    "               i+=1\n",
    "        return new_n.strip(' +')                    \n",
    "                           \n",
    "sayı(1.304)           \n",
    "         "
   ]
  },
  {
   "cell_type": "code",
   "execution_count": 109,
   "metadata": {},
   "outputs": [
    {
     "output_type": "execute_result",
     "data": {
      "text/plain": [
       "'10 + 2/10 + 4/100'"
      ]
     },
     "metadata": {},
     "execution_count": 109
    }
   ],
   "source": [
    "def genisletilmis_form(num):\n",
    "    if '.' in str(num):\n",
    "        tam_sayi, ondalik_sayi = str(num).split('.')\n",
    "        result = [str(int(num) * (10 ** i)) for i, num in enumerate(tam_sayi[::-1]) if num != '0'][::-1]\n",
    "        result += [str(num) + '/' + str(10 ** (i + 1)) for i, num in enumerate(ondalik_sayi) if num != '0']\n",
    "        return ' + '.join(result)\n",
    "    else:\n",
    "        result = [str(int(num) * (10 ** i)) for i, num in enumerate(str(num)[::-1]) if num != '0'][::-1]\n",
    "        return ' + '.join(result)\n",
    "genisletilmis_form(10.24)      "
   ]
  },
  {
   "cell_type": "code",
   "execution_count": 118,
   "metadata": {},
   "outputs": [
    {
     "output_type": "stream",
     "name": "stdout",
     "text": [
      "ba\n"
     ]
    }
   ],
   "source": [
    "def front_back(word):\n",
    "    li=list(word)\n",
    "    new=''\n",
    "    a=li[0]\n",
    "    li[0]=li[-1]\n",
    "    li[-1]=a\n",
    "    for i in li:\n",
    "       new+=''.join(i)\n",
    "    return new   \n",
    "print(front_back('ab')) "
   ]
  },
  {
   "cell_type": "code",
   "execution_count": 2,
   "metadata": {},
   "outputs": [
    {
     "output_type": "execute_result",
     "data": {
      "text/plain": [
       "{'cows', 'pig'}"
      ]
     },
     "metadata": {},
     "execution_count": 2
    }
   ],
   "source": [
    "def pluralize(lst):\n",
    "  return {i+'s' if lst.count(i) > 1 else i for i in lst}\n",
    "  #return result\n",
    "pluralize([\"cow\", \"pig\", \"cow\", \"cow\"])  "
   ]
  },
  {
   "cell_type": "code",
   "execution_count": 41,
   "metadata": {},
   "outputs": [
    {
     "output_type": "execute_result",
     "data": {
      "text/plain": [
       "'0'"
      ]
     },
     "metadata": {},
     "execution_count": 41
    }
   ],
   "source": [
    "def num(s):\n",
    "    com_num=[]\n",
    "    for k in s:\n",
    "        if 'i' in k:\n",
    "          com_num.append(complex(k.replace('i','j')))\n",
    "        else:\n",
    "          com_num.append(int(k))\n",
    "    return str(sum(com_num)).replace('j','i').replace('0i','0')        \n",
    "num([\"-i\", \"i\"])"
   ]
  },
  {
   "cell_type": "code",
   "execution_count": 74,
   "metadata": {},
   "outputs": [
    {
     "output_type": "execute_result",
     "data": {
      "text/plain": [
       "[['1', '-2i'], ['1', '+2i']]"
      ]
     },
     "metadata": {},
     "execution_count": 74
    }
   ],
   "source": [
    "def num(s):\n",
    "    com_num=[]\n",
    "    for k in s:\n",
    "        if 'i' in k:\n",
    "            if '+' in k:\n",
    "               real,comp=k.split('+')\n",
    "               com_num.append([real,'+'+comp]) \n",
    "            elif '-' in k:\n",
    "                real,comp=k.split('-')\n",
    "                com_num.append([real,'-'+comp])   \n",
    "            else:\n",
    "               real,comp='0',k\n",
    "               com_num.append([real,comp])\n",
    "        else:\n",
    "            real,comp=k,'0'\n",
    "            com_num.append([real,comp])\n",
    "    return(com_num)\n",
    "num([\"1-2i\", \"1+2i\"])            "
   ]
  },
  {
   "cell_type": "code",
   "execution_count": 37,
   "metadata": {},
   "outputs": [
    {
     "output_type": "execute_result",
     "data": {
      "text/plain": [
       "'2+1i'"
      ]
     },
     "metadata": {},
     "execution_count": 37
    }
   ],
   "source": [
    "def sum_complex(x):\n",
    "    x = [i.replace(\"i\", \"j\") for i in x]\n",
    "    s = 0 + 0j\n",
    "    for i in range (len(x)):\n",
    "        s += complex(x[i])\n",
    "    return str(s).strip(\"()\").replace(\"j\", \"i\").replace(\"+0i\", \"\")\n",
    "sum_complex([\"1\", \"1+i\"])    "
   ]
  },
  {
   "cell_type": "code",
   "execution_count": 36,
   "metadata": {},
   "outputs": [
    {
     "output_type": "error",
     "ename": "ValueError",
     "evalue": "invalid literal for int() with base 10: '1*2'",
     "traceback": [
      "\u001b[1;31m---------------------------------------------------------------------------\u001b[0m",
      "\u001b[1;31mValueError\u001b[0m                                Traceback (most recent call last)",
      "\u001b[1;32m<ipython-input-36-572691f728bb>\u001b[0m in \u001b[0;36m<module>\u001b[1;34m\u001b[0m\n\u001b[0;32m      1\u001b[0m \u001b[0ms\u001b[0m\u001b[1;33m=\u001b[0m\u001b[1;34m'1*2'\u001b[0m\u001b[1;33m\u001b[0m\u001b[1;33m\u001b[0m\u001b[0m\n\u001b[1;32m----> 2\u001b[1;33m \u001b[0mint\u001b[0m\u001b[1;33m(\u001b[0m\u001b[0ms\u001b[0m\u001b[1;33m)\u001b[0m\u001b[1;33m\u001b[0m\u001b[1;33m\u001b[0m\u001b[0m\n\u001b[0m",
      "\u001b[1;31mValueError\u001b[0m: invalid literal for int() with base 10: '1*2'"
     ]
    }
   ],
   "source": [
    "s='1*2'\n",
    "int(s)\n"
   ]
  },
  {
   "cell_type": "code",
   "execution_count": 68,
   "metadata": {},
   "outputs": [
    {
     "output_type": "error",
     "ename": "ValueError",
     "evalue": "invalid literal for int() with base 10: '-2-3'",
     "traceback": [
      "\u001b[1;31m---------------------------------------------------------------------------\u001b[0m",
      "\u001b[1;31mValueError\u001b[0m                                Traceback (most recent call last)",
      "\u001b[1;32m<ipython-input-68-929ac9991d03>\u001b[0m in \u001b[0;36m<module>\u001b[1;34m\u001b[0m\n\u001b[1;32m----> 1\u001b[1;33m \u001b[0ms\u001b[0m\u001b[1;33m=\u001b[0m\u001b[0mint\u001b[0m\u001b[1;33m(\u001b[0m\u001b[1;34m'-2-3'\u001b[0m\u001b[1;33m)\u001b[0m\u001b[1;33m\u001b[0m\u001b[1;33m\u001b[0m\u001b[0m\n\u001b[0m\u001b[0;32m      2\u001b[0m \u001b[0ms\u001b[0m\u001b[1;33m\u001b[0m\u001b[1;33m\u001b[0m\u001b[0m\n",
      "\u001b[1;31mValueError\u001b[0m: invalid literal for int() with base 10: '-2-3'"
     ]
    }
   ],
   "source": [
    "s=int('-2-3')\n",
    "s"
   ]
  },
  {
   "cell_type": "code",
   "execution_count": 84,
   "metadata": {},
   "outputs": [
    {
     "output_type": "execute_result",
     "data": {
      "text/plain": [
       "8"
      ]
     },
     "metadata": {},
     "execution_count": 84
    }
   ],
   "source": [
    "def sum_double(x, y) :\n",
    "    return (x + y) if x != y else (x + y) * 2\n",
    "    \n",
    "sum_double(2, 2)"
   ]
  },
  {
   "cell_type": "code",
   "execution_count": 29,
   "metadata": {},
   "outputs": [
    {
     "output_type": "execute_result",
     "data": {
      "text/plain": [
       "([1, 8, 3, 6, 5, 4, 7, 2, 9, 0], [])"
      ]
     },
     "metadata": {},
     "execution_count": 29
    }
   ],
   "source": [
    "def sort2(x):\n",
    "    new_list=[]\n",
    "    odd_dict=sorted(filter (lambda x: x%2==1,x),reverse=True)\n",
    "     for i in x:\n",
    "        if i%2==0:\n",
    "            new_list.append(i)\n",
    "        else:\n",
    "            new_list.append(odd_dict.pop())\n",
    "            \n",
    "    return new_list,odd_dict\n",
    "sort2([9, 8, 7, 6, 5, 4, 3, 2, 1, 0])    "
   ]
  },
  {
   "cell_type": "code",
   "execution_count": 81,
   "metadata": {},
   "outputs": [
    {
     "output_type": "execute_result",
     "data": {
      "text/plain": [
       "[3, [[1], [1], [2, 1]]]"
      ]
     },
     "metadata": {},
     "execution_count": 81
    }
   ],
   "source": [
    "def sort(x):\n",
    "    new_list=[]\n",
    "    list_one=[i for i in range(len(x)) if x[i]==1] #1 in olduğu indexin yeri\n",
    "    for i in list_one:\n",
    "         if x[i-1]-x[i]!=1:\n",
    "            new_list.append([x[i]])\n",
    "         else: \n",
    "            new2_list=[1]  \n",
    "            for j in range(i,0,-1):\n",
    "              if x[j-1]-x[j]==1: \n",
    "                new2_list.append(x[j-1])\n",
    "              else:\n",
    "                  break  \n",
    "            new_list.append(sorted(new2_list,reverse=True))\n",
    "    last_list=[len(new_list),new_list]\n",
    "    return last_list  \n",
    "sort([1, 1, 2, 1])"
   ]
  },
  {
   "cell_type": "code",
   "execution_count": null,
   "metadata": {},
   "outputs": [],
   "source": [
    "def final_countdown(l):\n",
    "  l=l[::-1]\n",
    "  yeni={}\n",
    "  count=0\n",
    "  for i in range(len(l)):\n",
    "    if l[i]==1:\n",
    "      count+=1\n",
    "      yeni[count]=[l[i]]\n",
    "      if i==len(l)-1:\n",
    "        break\n",
    "      else:\n",
    "        while l[i+1]==l[i]+1:\n",
    "          yeni[count].append(l[i+1])\n",
    "          if i<len(l)-2:\n",
    "            i+=1\n",
    "          else:\n",
    "            break\n",
    "  for i in yeni:\n",
    "    yeni[i]=yeni[i][::-1]\n",
    "  return [count,list(yeni.values())[::-1]]"
   ]
  },
  {
   "cell_type": "code",
   "execution_count": 4,
   "metadata": {},
   "outputs": [
    {
     "output_type": "stream",
     "name": "stdout",
     "text": [
      "-100\n"
     ]
    }
   ],
   "source": [
    "def my_min(*x):\n",
    "    min_no=min(x)\n",
    "    return min_no\n",
    "\n",
    "\n",
    "\n",
    "print(my_min(-100))\n",
    "\n"
   ]
  },
  {
   "cell_type": "code",
   "execution_count": 9,
   "metadata": {},
   "outputs": [
    {
     "output_type": "stream",
     "name": "stdout",
     "text": [
      "Johnz\n"
     ]
    }
   ],
   "source": [
    "my_dict={\n",
    "  \"first_name\": \"John\",\n",
    "  \"last_name\": \"Doe\",\n",
    "  \"id\": \"123\"\n",
    "}\n",
    "my_dict[\"first_name\"]+=my_dict[\"first_name\"].join('z')\n",
    "print(my_dict[\"first_name\"])"
   ]
  },
  {
   "cell_type": "code",
   "execution_count": 61,
   "metadata": {},
   "outputs": [
    {
     "output_type": "execute_result",
     "data": {
      "text/plain": [
       "{'first_name': 'Thomas', 'last_name': 'LEE', 'id': '43'}"
      ]
     },
     "metadata": {},
     "execution_count": 61
    }
   ],
   "source": [
    "def parse_code(s):\n",
    "    change=''\n",
    "    count=0\n",
    "    dict_1={\n",
    "  \"first_name\": \"\",\n",
    "  \"last_name\": \"\",\n",
    "  \"id\": \"\"\n",
    "}\n",
    "    for i in s[::-1]:\n",
    "        change=''\n",
    "        count-=1\n",
    "        if i.isdigit() and i!='0':\n",
    "            dict_1[\"id\"]+=''.join(i)\n",
    "        elif i.isalpha():\n",
    "            for j in s[count::-1]:\n",
    "                if j.isalpha() and change!='0':\n",
    "                  dict_1[\"last_name\"]+=''.join(j)\n",
    "                elif j=='0':\n",
    "                   change='0'\n",
    "                elif j.isalpha() and change=='0':\n",
    "                   dict_1[\"first_name\"]+=''.join(j)\n",
    "            break\n",
    "    dict_1[\"id\"]=dict_1[\"id\"][::-1]  \n",
    "    dict_1[\"last_name\"]=dict_1[\"last_name\"][::-1]\n",
    "    dict_1[\"first_name\"]=dict_1[\"first_name\"][::-1]\n",
    "    return dict_1       \n",
    "parse_code(\"Thomas00LEE0000043\")"
   ]
  },
  {
   "cell_type": "code",
   "execution_count": 63,
   "metadata": {},
   "outputs": [
    {
     "output_type": "stream",
     "name": "stdout",
     "text": [
      "['Thomas', '', 'LEE', '', '', '', '', '43']\n"
     ]
    },
    {
     "output_type": "execute_result",
     "data": {
      "text/plain": [
       "{'first_name': 'Thomas', 'last_name': '', 'id': 'LEE'}"
      ]
     },
     "metadata": {},
     "execution_count": 63
    }
   ],
   "source": [
    "def parse_code(s):\n",
    "  l=s.replace(\"0\",\" \").split()\n",
    "  return {\"first_name\":l[0], \"last_name\":l[1], \"id\":l[2]}\n",
    "parse_code(\"Thomas00LEE0000043\")  \n"
   ]
  },
  {
   "cell_type": "code",
   "execution_count": null,
   "metadata": {},
   "outputs": [],
   "source": [
    "def parse_code(sentence):\n",
    "    return {\n",
    "        \"first_name\" : sentence[0:sentence.find('0')],\n",
    "        \"last_name\" : sentence[sentence.find('0')::].strip('0')[0:sentence[sentence.find('0')::].strip('0').find('0')],\n",
    "        \"id\" : sentence[sentence.find('0')::].strip('0').strip(\n",
    "            sentence[sentence.find('0')::].strip('0')[0:sentence[sentence.find('0')::].strip('0').find('0')]).strip('0')"
   ]
  },
  {
   "cell_type": "code",
   "execution_count": 66,
   "metadata": {},
   "outputs": [
    {
     "output_type": "execute_result",
     "data": {
      "text/plain": [
       "[1, 3]"
      ]
     },
     "metadata": {},
     "execution_count": 66
    }
   ],
   "source": [
    "def array_diff(a, b):\n",
    "    diff = set(a).difference(set(b))\n",
    "    return list(diff)\n",
    "    \n",
    "array_diff([1,2,2,2,3],[2])    "
   ]
  },
  {
   "cell_type": "code",
   "execution_count": 74,
   "metadata": {},
   "outputs": [
    {
     "output_type": "execute_result",
     "data": {
      "text/plain": [
       "[1, 3]"
      ]
     },
     "metadata": {},
     "execution_count": 74
    }
   ],
   "source": [
    "def array_diff(a, b):\n",
    "    diff=[i for i in a if i not in b ]\n",
    "    return diff\n",
    "array_diff([1,2,2,2,3],[2])  "
   ]
  },
  {
   "cell_type": "code",
   "execution_count": null,
   "metadata": {},
   "outputs": [],
   "source": [
    "def parse_code(sentence):\n",
    "    return {\n",
    "        \"first_name\" : sentence[0:sentence.find('0')],\n",
    "        \"last_name\" : sentence[sentence.find('0')::].strip('0')[0:sentence[sentence.find('0')::].strip('0').find('0')],\n",
    "        \"id\" : sentence[sentence.find('0')::].strip('0').strip(\n",
    "            sentence[sentence.find('0')::].strip('0')[0:sentence[sentence.find('0')::].strip('0').find('0')]).strip('0')\n",
    "    }"
   ]
  }
 ]
}