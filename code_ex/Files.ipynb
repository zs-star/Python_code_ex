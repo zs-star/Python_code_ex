{
 "metadata": {
  "language_info": {
   "codemirror_mode": {
    "name": "ipython",
    "version": 3
   },
   "file_extension": ".py",
   "mimetype": "text/x-python",
   "name": "python",
   "nbconvert_exporter": "python",
   "pygments_lexer": "ipython3",
   "version": "3.9.4"
  },
  "orig_nbformat": 2,
  "kernelspec": {
   "name": "python394jvsc74a57bd00ac516125b3ee16d4eaa41f008fade7bad50b808bd1b6d74d2e8ae0015ba9066",
   "display_name": "Python 3.9.4 64-bit"
  },
  "metadata": {
   "interpreter": {
    "hash": "0ac516125b3ee16d4eaa41f008fade7bad50b808bd1b6d74d2e8ae0015ba9066"
   }
  }
 },
 "nbformat": 4,
 "nbformat_minor": 2,
 "cells": [
  {
   "cell_type": "code",
   "execution_count": null,
   "metadata": {},
   "outputs": [],
   "source": [
    "my_file = open(\"first_file.txt\", encoding=\"utf-8\")"
   ]
  },
  {
   "cell_type": "code",
   "execution_count": null,
   "metadata": {},
   "outputs": [],
   "source": [
    "sea = open(\"fishes.txt\", 'r')   \n",
    "\n",
    "print(sea.read())  # displays the entire text content\n",
    "\n",
    "sea.close()  # be sure to close the file"
   ]
  },
  {
   "cell_type": "code",
   "execution_count": null,
   "metadata": {},
   "outputs": [],
   "source": [
    "sea = open(\"fishes.txt\", 'r')   \n",
    "\n",
    "print(sea.read(33))  # displays the first 33 chars of the text\n",
    "print()\n",
    "print(sea.read(25))  # displays the next 25 chars of the text\n",
    "print()\n",
    "sea.seek(0)  # changes the stream (cursor) position to zero\n",
    "print(sea.read(33))  # displays the first 33 chars again\n",
    "print()\n",
    "print(sea.tell())  # returns the current stream (cursor) position\n",
    "\n",
    "sea.close()"
   ]
  },
  {
   "cell_type": "code",
   "execution_count": null,
   "metadata": {},
   "outputs": [],
   "source": [
    "sea = open(\"fishes.txt\", 'r')   \n",
    "\n",
    "print(sea.readline())  # displays the first line of the text\n",
    "print(sea.readline())  # displays the second line\n",
    "print(sea.readline())  # each time it goes to the new line\n",
    "\n",
    "sea.close()"
   ]
  },
  {
   "cell_type": "code",
   "execution_count": 1,
   "metadata": {},
   "outputs": [
    {
     "output_type": "stream",
     "name": "stdout",
     "text": [
      "Orca is a kin\nd of Dolphin.\n\n\nBlue Whale is\n"
     ]
    }
   ],
   "source": [
    "sea = open(\"fishes.txt\", 'r')   \n",
    "\n",
    "print(sea.readline(13))\n",
    "print(sea.readline(13))\n",
    "print(sea.readline(13))\n",
    "print(sea.readline(13))\n",
    "\n",
    "sea.close()"
   ]
  },
  {
   "cell_type": "code",
   "execution_count": null,
   "metadata": {},
   "outputs": [],
   "source": [
    "sea = open(\"fishes.txt\", 'r')   \n",
    "\n",
    "print(sea.readlines())\n",
    "\n",
    "sea.close()"
   ]
  },
  {
   "cell_type": "code",
   "execution_count": null,
   "metadata": {},
   "outputs": [],
   "source": [
    "sea = open(\"fishes.txt\", 'r')   \n",
    "\n",
    "print(sea.readline())  # first line\n",
    "print(sea.readlines())  # the rest of the lines\n",
    "\n",
    "sea.close()"
   ]
  },
  {
   "cell_type": "code",
   "execution_count": null,
   "metadata": {},
   "outputs": [],
   "source": [
    "sea = open(\"fishes.txt\", 'r')   \n",
    "\n",
    "print(type(sea.readlines()))\n",
    "\n",
    "sea.close()"
   ]
  },
  {
   "cell_type": "code",
   "execution_count": null,
   "metadata": {},
   "outputs": [],
   "source": [
    "sea = open(\"fishes.txt\", 'r')   \n",
    "\n",
    "for line in sea:\n",
    "    print(line)\n",
    "\n",
    "sea.close()"
   ]
  },
  {
   "cell_type": "code",
   "execution_count": null,
   "metadata": {},
   "outputs": [],
   "source": [
    "sea = open(\"fishes.txt\", 'r')   \n",
    "\n",
    "for line in sea.readlines():\n",
    "    print(line)\n",
    "\n",
    "sea.close()"
   ]
  },
  {
   "cell_type": "code",
   "execution_count": null,
   "metadata": {},
   "outputs": [],
   "source": [
    "with open(\"fishes.txt\", \"r\") as sea:\n",
    "    print(sea.read())  # needs indented code block"
   ]
  },
  {
   "cell_type": "code",
   "execution_count": null,
   "metadata": {},
   "outputs": [],
   "source": [
    "with open(\"dummy_file.txt\", 'w', encoding=\"utf-8\") as file:  \n",
    "# we create and open the file\n",
    "\n",
    "    file.write('This is the first line of my text file')  \n",
    "    # writes str data into file\n",
    "\n",
    "with open(\"dummy_file.txt\", 'r', encoding=\"utf-8\") as file:\n",
    "    print(file.read())  # reads the content of the 'dummy_file'"
   ]
  },
  {
   "cell_type": "code",
   "execution_count": null,
   "metadata": {},
   "outputs": [],
   "source": [
    "with open(\"dummy_file.txt\", 'w', encoding=\"utf-8\") as file:\n",
    "    file.write('This is the new line for my dummy_file')  \n",
    "    # we write new str data into it \n",
    "\n",
    "with open(\"dummy_file.txt\", 'r', encoding=\"utf-8\") as file:\n",
    "    print(file.read())  # reads the content of the 'dummy_file'"
   ]
  },
  {
   "cell_type": "code",
   "execution_count": null,
   "metadata": {},
   "outputs": [],
   "source": [
    "with open(\"dummy_file.txt\", 'w', encoding=\"utf-8\") as file:\n",
    "    file.write('My first sentence')\n",
    "    file.write('My second sentence,')\n",
    "    file.write('My third sentence\\n')\n",
    "    file.write('My fourth sentence ')\n",
    "    file.write('My last sentence')\n",
    "\n",
    "with open(\"dummy_file.txt\", 'r', encoding=\"utf-8\") as file:\n",
    "    print(file.read())"
   ]
  },
  {
   "cell_type": "code",
   "execution_count": null,
   "metadata": {},
   "outputs": [],
   "source": [
    "fruits = ['Banana', 'Orange', 'Apple', 'Strawberry', 'Cherry']\n",
    "\n",
    "with open(\"fruits.txt\", 'w', encoding=\"utf-8\") as file:\n",
    "    for basket in fruits:\n",
    "        file.write(basket + '\\n')  # adds a newline character to each string\n",
    "   \n",
    "with open(\"fruits.txt\", 'r', encoding=\"utf-8\") as file:\n",
    "    print(file.read())\n",
    "\n",
    "with open(\"fruits.txt\", 'r', encoding=\"utf-8\") as file:\n",
    "    print(file.readlines())  # reads and displays entire lines in a list"
   ]
  },
  {
   "cell_type": "code",
   "execution_count": null,
   "metadata": {},
   "outputs": [],
   "source": [
    "fruits = ['Banana\\n', 'Orange\\n', 'Apple\\n', 'Strawberry\\n', 'Cherry\\n']\n",
    "\n",
    "with open(\"fruits.txt\", 'w', encoding=\"utf-8\") as file:\n",
    "    file.writelines(fruits)  # takes an iterator for writing\n",
    "   \n",
    "with open(\"fruits.txt\", 'r', encoding=\"utf-8\") as file:\n",
    "    print(file.read())\n",
    "\n",
    "with open(\"fruits.txt\", 'r', encoding=\"utf-8\") as file:\n",
    "    print(file.readlines())"
   ]
  },
  {
   "cell_type": "code",
   "execution_count": null,
   "metadata": {},
   "outputs": [],
   "source": [
    "fruits = ['Banana\\n', 'Orange\\n', 'Apple\\n', 'Strawberry\\n', 'Cherry\\n']\n",
    "\n",
    "with open(\"fruits.txt\", 'w', encoding=\"utf-8\") as file:\n",
    "    file.writelines(fruits)  # creates a file containing the elements of the list\n",
    "\n",
    "with open(\"fruits.txt\", 'r', encoding=\"utf-8\") as file:\n",
    "    print(file.read())  # reads the content of the file\n",
    "\n",
    "with open(\"fruits.txt\", 'a', encoding=\"utf-8\") as file:\n",
    "    file.write('Melon\\n')  # adds \"Melon\" to the end of the existing file\n",
    "   \n",
    "with open(\"fruits.txt\", 'r', encoding=\"utf-8\") as file:\n",
    "    print(file.read())  # reads the last content of the file\n",
    "\n",
    "with open(\"fruits.txt\", 'r', encoding=\"utf-8\") as file:\n",
    "    print(file.readlines())"
   ]
  },
  {
   "cell_type": "code",
   "execution_count": null,
   "metadata": {},
   "outputs": [],
   "source": [
    "with open(\"fruits.csv\", 'r', encoding=\"utf-8\") as file:\n",
    "    print(file.read())"
   ]
  },
  {
   "cell_type": "code",
   "execution_count": null,
   "metadata": {},
   "outputs": [],
   "source": [
    "import csv  # loads csv module\n",
    "\n",
    "with open(\"fruits.csv\", 'r', newline = '', encoding = 'utf-8') as file:\n",
    "    csv_rows = csv.reader(file)  # reader() function takes each\n",
    "                                 # row (lines) into a list\n",
    "    for row in csv_rows: \n",
    "        print(row)   "
   ]
  },
  {
   "cell_type": "code",
   "execution_count": null,
   "metadata": {},
   "outputs": [],
   "source": [
    "import csv\n",
    "\n",
    "with open(\"fruits.csv\", 'r', newline = '', encoding = 'utf-8') as file:\n",
    "    csv_rows = csv.reader(file, delimiter= \",\")  # gives the same output as the previous one\n",
    "                                 \n",
    "    for row in csv_rows: \n",
    "        print(row)      "
   ]
  },
  {
   "cell_type": "code",
   "execution_count": null,
   "metadata": {},
   "outputs": [],
   "source": [
    "import csv \n",
    "\n",
    "with open(\"fruits.csv\", 'r', newline = '', encoding = 'utf-8') as file:\n",
    "    csv_rows = csv.reader(file, delimiter = ':')  # we specified a char \":\" that is not used\n",
    "                                                  # in the csv file as a value of delimiter\n",
    "    for row in csv_rows: \n",
    "        print(row)  "
   ]
  }
 ]
}