{
 "metadata": {
  "language_info": {
   "codemirror_mode": {
    "name": "ipython",
    "version": 3
   },
   "file_extension": ".py",
   "mimetype": "text/x-python",
   "name": "python",
   "nbconvert_exporter": "python",
   "pygments_lexer": "ipython3",
   "version": "3.8.8"
  },
  "orig_nbformat": 2,
  "kernelspec": {
   "name": "python388jvsc74a57bd0ef7f9a8012d9131766e31894c279374cc63c73121ed4db3b9e67a294a4bf0e74",
   "display_name": "Python 3.8.8 64-bit ('base': conda)"
  },
  "metadata": {
   "interpreter": {
    "hash": "0ac516125b3ee16d4eaa41f008fade7bad50b808bd1b6d74d2e8ae0015ba9066"
   }
  }
 },
 "nbformat": 4,
 "nbformat_minor": 2,
 "cells": [
  {
   "cell_type": "code",
   "execution_count": 1,
   "metadata": {},
   "outputs": [
    {
     "output_type": "stream",
     "name": "stdout",
     "text": [
      "[[1, 2, 3], [2, 3, 1], [3, 1, 2], [1, 2, 3], [2, 3, 1], [3, 1, 2]]\n"
     ]
    }
   ],
   "source": [
    "li=[1,2,3]\n",
    "big_list=[]\n",
    "new_list=[]\n",
    "k=-1\n",
    "for j in range(6):\n",
    "  big_list.append([])\n",
    "\n",
    "for j in range(6):\n",
    "  if j%3==0:\n",
    "    k+=1\n",
    "    \n",
    "    \n",
    "  for i in range(len(li)):\n",
    "    big_list[j].insert((i)%3,li[(i+j)%3])#.insert(j%1,lis[i%1]) \n",
    "   \n",
    "                    \n",
    "              \n",
    "print(big_list)         "
   ]
  },
  {
   "cell_type": "code",
   "execution_count": 84,
   "metadata": {},
   "outputs": [
    {
     "output_type": "stream",
     "name": "stdout",
     "text": [
      "[[1], [1, 2], [1, 2, 3]]\n"
     ]
    }
   ],
   "source": [
    "li=[1,2,3]\n",
    "big_list=[]\n",
    "new_list=[]\n",
    "for i in li:\n",
    "    \n",
    "  new_list.append(i)\n",
    "  big_list.append(new_list[:])\n",
    "print(big_list)    "
   ]
  },
  {
   "cell_type": "code",
   "execution_count": 58,
   "metadata": {},
   "outputs": [
    {
     "output_type": "stream",
     "name": "stdout",
     "text": [
      "[[(0, 1), (1, 2), (2, 3)]]\n"
     ]
    }
   ],
   "source": [
    "big_list=[]\n",
    "big_list_2=[]\n",
    "\n",
    "for i in range(1):\n",
    "    big_list.append(list(enumerate(li,i)))\n",
    "\n",
    "print(big_list)"
   ]
  },
  {
   "cell_type": "code",
   "execution_count": 56,
   "metadata": {},
   "outputs": [
    {
     "output_type": "execute_result",
     "data": {
      "text/plain": [
       "15"
      ]
     },
     "metadata": {},
     "execution_count": 56
    }
   ],
   "source": [
    "def nb_year(x,y,z,t):\n",
    "    count=0\n",
    "    while x<=t:\n",
    "      x+=x*(y/100)+z \n",
    "      count+=1\n",
    "    return count\n",
    "nb_year(1500,5,100,5000)    "
   ]
  },
  {
   "cell_type": "code",
   "execution_count": 20,
   "metadata": {},
   "outputs": [
    {
     "output_type": "error",
     "ename": "SyntaxError",
     "evalue": "invalid syntax (<ipython-input-20-204c14b3dfc7>, line 3)",
     "traceback": [
      "\u001b[1;36m  File \u001b[1;32m\"<ipython-input-20-204c14b3dfc7>\"\u001b[1;36m, line \u001b[1;32m3\u001b[0m\n\u001b[1;33m    Return end\u001b[0m\n\u001b[1;37m           ^\u001b[0m\n\u001b[1;31mSyntaxError\u001b[0m\u001b[1;31m:\u001b[0m invalid syntax\n"
     ]
    }
   ],
   "source": [
    "def perm(start, end=[]):\n",
    "    if(len(start) == 0):\n",
    "        Return end\n",
    "    else:\n",
    "        for i in range(len(start)):\n",
    "            perm(start[:i] + start[i+1:], end + start[i:i+1])\n",
    "perm([1, 2, 3,4,5])"
   ]
  },
  {
   "cell_type": "code",
   "execution_count": null,
   "metadata": {},
   "outputs": [],
   "source": [
    "liste = [1, 2, 3]\n",
    "result1= []\n",
    "perm = 1  \n",
    "# perm: başlangıçta liste tek elemanlı bile olsa 1 olasılık vardır.\n",
    "for i in range(1, len(liste)+1):\n",
    "    perm = i * perm  \n",
    "# perm : toplam kaç farklı şekilde olabileceğine ilişkin sayı.\n",
    "per = int(perm * 0.5)  \n",
    "# per: toplam değişik listelerin yarısı diğer yarısının tersi olarak yer almaktadır. \n",
    "# o yüzden diğer yarısını en son ekleyeceğim. \n",
    "for i in range(per):\n",
    "# []: toplam değişik listelerin yarısı kadar boş liste ekledim.\n",
    "    result1.append([])\n",
    "for i in range(len(liste)):\n",
    "               for j in result1:\n",
    "                    j.append(0) \n",
    "# [x, x, x, x....]üzerinde rahat çalışmak için, \n",
    "# her bir değişik listeye listedeki toplam eleman kadar boş bir değer atadım. \n",
    "k = 0\n",
    "for i in liste: \n",
    "# bu bölümde tüm listelere birer kaydırararak başlangıçtaki liste elemanlarımı ekledim.  \n",
    "    k += 1\n",
    "    for j in range(per):\n",
    "        if k < len(liste):\n",
    "            result1[j][k] = i\n",
    "            k += 1\n",
    "        else:\n",
    "            k = 0\n",
    "            result1[j][k] = i\n",
    "            k += 1\n",
    "result2 = []\n",
    "for i in result1: \n",
    "# tüm listelerin bir de tersini alıyorum\n",
    "    result2.append(i[::-1])\n",
    "result = result2 + result1 \n",
    "# tersini (perm/2 adet) , düzünü (perm/2 adet) topluyorum.)\n",
    "print(len(result), result, sep = \"\\n\")"
   ]
  },
  {
   "cell_type": "code",
   "execution_count": 58,
   "metadata": {},
   "outputs": [],
   "source": [
    "nums = input(\"sayıları giriniz: \")\n",
    "result_perms = [[]]\n",
    "for n in nums:\n",
    "  new_perms = []\n",
    "  for perm in result_perms:\n",
    "    for i in range(len(perm)+1):\n",
    "      new_perms.append(perm[:i] + [n] + perm[i:])\n",
    "      result_perms = new_perms\n",
    "print(result_perms)"
   ]
  },
  {
   "cell_type": "code",
   "execution_count": 46,
   "metadata": {},
   "outputs": [],
   "source": [
    "def sum_pairs(ints, s):\n",
    "   sum=[]\n",
    "   min=0\n",
    "   for i in range(len(ints)):\n",
    "        for j in range(i+1,len(ints)):\n",
    "           if ints[i]+ints[j]==s:\n",
    "                sum.append([ints[i],ints[j],abs(i-j)])\n",
    "   if sum:\n",
    "      return sorted(sum)[0][:-1] \n",
    "   else:\n",
    "       return None    \n",
    "                \n",
    "               \n",
    "   \n",
    "sum_pairs([0, 0, -2, 3], 2) "
   ]
  },
  {
   "cell_type": "code",
   "execution_count": null,
   "metadata": {},
   "outputs": [],
   "source": [
    "import math\n",
    "def new_avg1(arr, newavg):\n",
    "    value = int(math.ceil((len(arr)+1) * newavg - sum(arr)))\n",
    "    if value < 0:\n",
    "        raise ValueError\n",
    "    return value\n",
    "    "
   ]
  },
  {
   "cell_type": "code",
   "execution_count": 66,
   "metadata": {},
   "outputs": [
    {
     "output_type": "execute_result",
     "data": {
      "text/plain": [
       "['Zahire Seymen',\n",
       " 'ZAhire Seymen',\n",
       " 'ZaHire Seymen',\n",
       " 'ZahIre Seymen',\n",
       " 'ZahiRe Seymen',\n",
       " 'ZahirE Seymen',\n",
       " 'Zahire Seymen',\n",
       " 'Zahire Seymen',\n",
       " 'Zahire SEymen',\n",
       " 'Zahire SeYmen',\n",
       " 'Zahire SeyMen',\n",
       " 'Zahire SeymEn',\n",
       " 'Zahire SeymeN']"
      ]
     },
     "metadata": {},
     "execution_count": 66
    }
   ],
   "source": [
    "def wave(s):\n",
    "   return [f\"{s[0:i]}{s[i].upper()}{s[i+1:]}\"  for i in range(len(s)) if i!=' ']\n",
    "  \n",
    "wave(\"Zahire Seymen\")           "
   ]
  },
  {
   "cell_type": "code",
   "execution_count": 63,
   "metadata": {},
   "outputs": [
    {
     "output_type": "execute_result",
     "data": {
      "text/plain": [
       "['Kuzey', 'Bati', 'Guney', 'Dogu']"
      ]
     },
     "metadata": {},
     "execution_count": 63
    }
   ],
   "source": [
    "def rota(s):\n",
    "    length=len(s)//2\n",
    "    word=''\n",
    "    \n",
    "    last_list=[]\n",
    "    new_list=[]\n",
    "    for i in s:\n",
    "        word+=i\n",
    "        for i in range(length):\n",
    "           word=word.replace('KuzeyGuney','').replace('GuneyKuzey','').replace('DoguBati','').replace('BatiDogu','') \n",
    "      \n",
    "    new_list=[word.index(i) for i in word if i.isupper() ]\n",
    "    for i in range(len(new_list)-1):\n",
    "        last_list.append(word[new_list[i]:new_list[i+1]])\n",
    "    last_list.append(word[new_list[-1]:])\n",
    "    return last_list\n",
    "\n",
    "rota([\"Kuzey\", \"Bati\", \"Guney\", \"Dogu\"])"
   ]
  },
  {
   "cell_type": "code",
   "execution_count": null,
   "metadata": {},
   "outputs": [],
   "source": [
    "def yon(l):\n",
    "    s={\"Kuzey\":\"Guney\",\"Guney\":\"Kuzey\",\"Dogu\":\"Bati\",\"Bati\":\"Dogu\"}\n",
    "    i=0 \n",
    "    while i<len(l)-1:\n",
    "        if s[l[i]]==l[i+1]:\n",
    "            del l[i:i+2]\n",
    "            i=0\n",
    "        else:\n",
    "            i+=1\n",
    "    return l"
   ]
  },
  {
   "cell_type": "code",
   "execution_count": 76,
   "metadata": {},
   "outputs": [
    {
     "output_type": "execute_result",
     "data": {
      "text/plain": [
       "{'e'}"
      ]
     },
     "metadata": {},
     "execution_count": 76
    }
   ],
   "source": [
    "\n",
    "def missing(s):\n",
    "    length=len(s)\n",
    "    miss=[]\n",
    "    eng_alp_low= list('abcdefghijklmnopqrstuvwxyz')\n",
    "    eng_alp_up=list('abcdefghijklmnopqrstuvwxyz'.upper())\n",
    "    if length>=2:\n",
    "      if s[0].isupper():\n",
    "            if s[0] in eng_alp_up:\n",
    "                miss=eng_alp_up[eng_alp_up.index(s[0]):eng_alp_up.index(s[0])+length+1]\n",
    "     \n",
    "      else:  \n",
    "             if s[0] in eng_alp_low:\n",
    "                miss=eng_alp_low[eng_alp_low.index(s[0]):eng_alp_low.index(s[0])+length+1]      \n",
    "\n",
    "    return set(miss).difference(set(s))\n",
    "    \n",
    "missing([\"a\",\"b\",\"c\",\"d\",\"f\"])\n",
    "\n"
   ]
  },
  {
   "cell_type": "code",
   "execution_count": 49,
   "metadata": {},
   "outputs": [
    {
     "output_type": "error",
     "ename": "IndentationError",
     "evalue": "unindent does not match any outer indentation level (<tokenize>, line 23)",
     "traceback": [
      "\u001b[1;36m  File \u001b[1;32m\"<tokenize>\"\u001b[1;36m, line \u001b[1;32m23\u001b[0m\n\u001b[1;33m    else:\u001b[0m\n\u001b[1;37m    ^\u001b[0m\n\u001b[1;31mIndentationError\u001b[0m\u001b[1;31m:\u001b[0m unindent does not match any outer indentation level\n"
     ]
    }
   ],
   "source": [
    "Liste =[-2, 1, -3, 4, -1, 2, 1, -5, 4]\n",
    "new_list=[]\n",
    "Total=sum(Liste)\n",
    "\n",
    "if Total<sum(Liste[1:]) or Total<sum(Liste[:-1]):\n",
    "     while True:#Total<sum(Liste[1:]) or Total<sum(Liste[:-1]):\n",
    "         if sum(Liste[1:])>sum(Liste[:-1]):\n",
    "           Liste.pop(0)\n",
    "           Total=sum(Liste)\n",
    "         elif sum(Liste[1:])<sum(Liste[:-1]): \n",
    "           Liste.pop(-1)  \n",
    "           Total=sum(Liste)\n",
    "         elif sum(Liste[1:])==sum(Liste[:-1]):\n",
    "             \n",
    "             if sum(Liste[2:])<sum(Liste[:-2]):\n",
    "                 Liste.pop(0)\n",
    "                 Liste.pop(0)\n",
    "                 Total=sum(Liste)\n",
    "             elif sum(Liste[2:])>sum(Liste[:-2]):    \n",
    "                 Liste.pop(-1)\n",
    "                 Liste.pop(-1)\n",
    "                 Total=sum(Liste)\n",
    "         else:\n",
    "              break\n",
    "\n",
    "print(Total,Liste)\n"
   ]
  },
  {
   "cell_type": "code",
   "execution_count": 53,
   "metadata": {},
   "outputs": [
    {
     "output_type": "stream",
     "name": "stdout",
     "text": [
      "ey edip adana'da, pide ye!  is palindrome\n"
     ]
    }
   ],
   "source": [
    "def palindrome(s):\n",
    "    new=''\n",
    "    spe=[]\n",
    "    st=(s.replace(' ','',-1)).lower()\n",
    "    for i in st[::-1]:\n",
    "        if i.isalnum():\n",
    "             new+=''.join(i)\n",
    "        else:\n",
    "            spe.append([i,st.index(i)])     \n",
    "    for i,j in spe:\n",
    "        if i==',':\n",
    "          j=j-1\n",
    "        new=new[:j]+i+new[j:]  \n",
    "    if new==st:\n",
    "        print(s,\" is palindrome\" ) \n",
    "    else:\n",
    "        print(s,\" is not palindrome\")\n",
    "palindrome(\"ey edip adana'da, pide ye!\")  "
   ]
  },
  {
   "cell_type": "code",
   "execution_count": 68,
   "metadata": {},
   "outputs": [
    {
     "output_type": "stream",
     "name": "stdout",
     "text": [
      "Too hot to hoot.  is palindrome\n"
     ]
    }
   ],
   "source": [
    "def palindrome(s):\n",
    "    l,h,control=0,len(s)-1,''\n",
    "    s_l=s.lower()\n",
    "    while l<=h:\n",
    "        if s_l[l].isalnum:\n",
    "            l+=1\n",
    "        elif s_l[h].isalnum:\n",
    "            h-=1\n",
    "        elif s_l[l]!=s_l[h]:\n",
    "            \n",
    "            print(s,s_l[l],s_l[h],l,h,\" is not palindrome\")\n",
    "            control='W'\n",
    "            break\n",
    "        else:\n",
    "             continue\n",
    "    if control!='W':\n",
    "          print(s,\" is palindrome\" ) \n",
    "palindrome(\"Too hot to hoot.\")          "
   ]
  },
  {
   "cell_type": "code",
   "execution_count": 10,
   "metadata": {},
   "outputs": [
    {
     "output_type": "stream",
     "name": "stdout",
     "text": [
      "Korkma, sönmez bu şafaklarda yüzen al sancak;\nSönmeden yurdumun üstünde tüten en son ocak.\nO benim milletimin yıldızıdır, parlayacak;\nO benimdir, o benim milletimindir ancak.\n\nÇatma, kurban olayım, çehreni ey nazlı hilal!\nKahraman ırkıma bir gül! Ne bu şiddet, bu celal?\nSana olmaz dökülen kanlarımız sonra helal...\nHakkıdır, hakk'a tapan, milletimin istiklal!\n\nBen ezelden beridir hür yaşadım, hür yaşarım.\nHangi çılgın bana zincir vuracakmış? Şaşarım!\nKükremiş sel gibiyim, bendimi çiğner, aşarım.\nYırtarım dağları, enginlere sığmam, taşarım.\n\nGarbın afakını sarmışsa çelik zırhlı duvar,\nBenim iman dolu göğsüm gibi serhaddim var.\nUlusun, korkma! Nasıl böyle bir imanı boğar,\n'Medeniyet!' dediğin tek dişi kalmış canavar?\n\nArkadaş! Yurduma alçakları uğratma, sakın.\nSiper et gövdeni, dursun bu hayasızca akın.\nDoğacaktır sana va'dettigi günler hakk'ın...\nKim bilir, belki yarın, belki yarından da yakın.\n\nBastığın yerleri 'toprak!' diyerek geçme, tanı:\nDüşün altında binlerce kefensiz yatanı.\nSen şehit oğlusun, incitme, yazıktır, atanı:\nVerme, dünyaları alsan da, bu cennet vatanı.\n\nKim bu cennet vatanın uğruna olmaz ki feda?\nŞuheda fışkıracak toprağı sıksan, şuheda!\nCanı, cananı, bütün varımı alsın da hüda,\nEtmesin tek vatanımdan beni dünyada cüda.\n\nRuhumun senden, ilahi, şudur ancak emeli:\nDeğmesin mabedimin göğsüne namahrem eli.\nBu ezanlar-ki şahadetleri dinin temeli,\nEbedi yurdumun üstünde benim inlemeli.\nKorkma, sönmez bu şafaklarda yüzen al sancak;\nSönmeden yurdumun üstünde tüten en son ocak.\nO benim milletimin yıldızıdır, parlayacak;\nO benimdir, o benim milletimindir ancak.\n\nÇatma, kurban olayım, çehreni ey nazlı hilal!\nKahraman ırkıma bir gül! Ne bu şiddet, bu celal?\nSana olmaz dökülen kanlarımız sonra helal...\nHakkıdır, hakk'a tapan, milletimin istiklal!\n\nBen ezelden beridir hür yaşadım, hür yaşarım.\nHangi çılgın bana zincir vuracakmış? Şaşarım!\nKükremiş sel gibiyim, bendimi çiğner, aşarım.\nYırtarım dağları, enginlere sığmam, taşarım.\n\nGarbın afakını sarmışsa çelik zırhlı duvar,\nBenim iman dolu göğsüm gibi serhaddim var.\nUlusun, korkma! Nasıl böyle bir imanı boğar,\n'Medeniyet!' dediğin tek dişi kalmış canavar?\n\nArkadaş! Yurduma alçakları uğratma, sakın.\nSiper et gövdeni, dursun bu hayasızca akın.\nDoğacaktır sana va'dettigi günler hakk'ın...\nKim bilir, belki yarın, belki yarından da yakın.\n\nBastığın yerleri 'toprak!' diyerek geçme, tanı:\nDüşün altında binlerce kefensiz yatanı.\nSen şehit oğlusun, incitme, yazıktır, atanı:\nVerme, dünyaları alsan da, bu cennet vatanı.\n\nKim bu cennet vatanın uğruna olmaz ki feda?\nŞuheda fışkıracak toprağı sıksan, şuheda!\nCanı, cananı, bütün varımı alsın da hüda,\nEtmesin tek vatanımdan beni dünyada cüda.\n\nRuhumun senden, ilahi, şudur ancak emeli:\nDeğmesin mabedimin göğsüne namahrem eli.\nBu ezanlar-ki şahadetleri dinin temeli,\nEbedi yurdumun üstünde benim inlemeli.\nKorkma, sönmez bu şafaklarda yüzen al sancak;\nSönmeden yurdumun üstünde tüten en son ocak.\nO benim milletimin yıldızıdır, parlayacak;\nO benimdir, o benim milletimindir ancak.\n\nÇatma, kurban olayım, çehreni ey nazlı hilal!\nKahraman ırkıma bir gül! Ne bu şiddet, bu celal?\nSana olmaz dökülen kanlarımız sonra helal...\nHakkıdır, hakk'a tapan, milletimin istiklal!\n\nBen ezelden beridir hür yaşadım, hür yaşarım.\nHangi çılgın bana zincir vuracakmış? Şaşarım!\nKükremiş sel gibiyim, bendimi çiğner, aşarım.\nYırtarım dağları, enginlere sığmam, taşarım.\n\nGarbın afakını sarmışsa çelik zırhlı duvar,\nBenim iman dolu göğsüm gibi serhaddim var.\nUlusun, korkma! Nasıl böyle bir imanı boğar,\n'Medeniyet!' dediğin tek dişi kalmış canavar?\n\nArkadaş! Yurduma alçakları uğratma, sakın.\nSiper et gövdeni, dursun bu hayasızca akın.\nDoğacaktır sana va'dettigi günler hakk'ın...\nKim bilir, belki yarın, belki yarından da yakın.\n\nBastığın yerleri 'toprak!' diyerek geçme, tanı:\nDüşün altında binlerce kefensiz yatanı.\nSen şehit oğlusun, incitme, yazıktır, atanı:\nVerme, dünyaları alsan da, bu cennet vatanı.\n\nKim bu cennet vatanın uğruna olmaz ki feda?\nŞuheda fışkıracak toprağı sıksan, şuheda!\nCanı, cananı, bütün varımı alsın da hüda,\nEtmesin tek vatanımdan beni dünyada cüda.\n\nRuhumun senden, ilahi, şudur ancak emeli:\nDeğmesin mabedimin göğsüne namahrem eli.\nBu ezanlar-ki şahadetleri dinin temeli,\nEbedi yurdumun üstünde benim inlemeli.\nKorkma, sönmez bu şafaklarda yüzen al sancak;\nSönmeden yurdumun üstünde tüten en son ocak.\nO benim milletimin yıldızıdır, parlayacak;\nO benimdir, o benim milletimindir ancak.\n\nÇatma, kurban olayım, çehreni ey nazlı hilal!\nKahraman ırkıma bir gül! Ne bu şiddet, bu celal?\nSana olmaz dökülen kanlarımız sonra helal...\nHakkıdır, hakk'a tapan, milletimin istiklal!\n\nBen ezelden beridir hür yaşadım, hür yaşarım.\nHangi çılgın bana zincir vuracakmış? Şaşarım!\nKükremiş sel gibiyim, bendimi çiğner, aşarım.\nYırtarım dağları, enginlere sığmam, taşarım.\n\nGarbın afakını sarmışsa çelik zırhlı duvar,\nBenim iman dolu göğsüm gibi serhaddim var.\nUlusun, korkma! Nasıl böyle bir imanı boğar,\n'Medeniyet!' dediğin tek dişi kalmış canavar?\n\nArkadaş! Yurduma alçakları uğratma, sakın.\nSiper et gövdeni, dursun bu hayasızca akın.\nDoğacaktır sana va'dettigi günler hakk'ın...\nKim bilir, belki yarın, belki yarından da yakın.\n\nBastığın yerleri 'toprak!' diyerek geçme, tanı:\nDüşün altında binlerce kefensiz yatanı.\nSen şehit oğlusun, incitme, yazıktır, atanı:\nVerme, dünyaları alsan da, bu cennet vatanı.\n\nKim bu cennet vatanın uğruna olmaz ki feda?\nŞuheda fışkıracak toprağı sıksan, şuheda!\nCanı, cananı, bütün varımı alsın da hüda,\nEtmesin tek vatanımdan beni dünyada cüda.\n\nRuhumun senden, ilahi, şudur ancak emeli:\nDeğmesin mabedimin göğsüne namahrem eli.\nBu ezanlar-ki şahadetleri dinin temeli,\nEbedi yurdumun üstünde benim inlemeli.\n\n"
     ]
    }
   ],
   "source": [
    "with open(\"istiklal.txt\", \"r\", encoding=\"utf-8\") as march :\n",
    "    lines=march.readlines()\n",
    "counter = 0\n",
    "with open(\"istiklal.txt\", \"a\", encoding=\"utf-8\") as march :\n",
    "    for line in lines :\n",
    "        counter += 1\n",
    "        if counter % 4 == 0 :\n",
    "            line.replace(\"\\n\",\"\")\n",
    "            march.write(line)\n",
    "        else :\n",
    "            march.write(line)\n",
    "with open(\"istiklal.txt\", \"r\", encoding=\"utf-8\") as march :\n",
    "    print(march.read())"
   ]
  },
  {
   "cell_type": "code",
   "execution_count": 12,
   "metadata": {},
   "outputs": [
    {
     "output_type": "stream",
     "name": "stdout",
     "text": [
      "Korkma, sönmez bu şafaklarda yüzen al sancak;\nSönmeden yurdumun üstünde tüten en son ocak.\nO benim milletimin yıldızıdır, parlayacak;\nO benimdir, o benim milletimindir ancak.\nÇatma, kurban olayım, çehreni ey nazlı hilal!\nKahraman ırkıma bir gül! Ne bu şiddet, bu celal?\nSana olmaz dökülen kanlarımız sonra helal...\nHakkıdır, hakk'a tapan, milletimin istiklal!\nBen ezelden beridir hür yaşadım, hür yaşarım.\nHangi çılgın bana zincir vuracakmış? Şaşarım!\nKükremiş sel gibiyim, bendimi çiğner, aşarım.\nYırtarım dağları, enginlere sığmam, taşarım.\nGarbın afakını sarmışsa çelik zırhlı duvar,\nBenim iman dolu göğsüm gibi serhaddim var.\nUlusun, korkma! Nasıl böyle bir imanı boğar,\n'Medeniyet!' dediğin tek dişi kalmış canavar?\nArkadaş! Yurduma alçakları uğratma, sakın.\nSiper et gövdeni, dursun bu hayasızca akın.\nDoğacaktır sana va'dettigi günler hakk'ın...\nKim bilir, belki yarın, belki yarından da yakın.\nBastığın yerleri 'toprak!' diyerek geçme, tanı:\nDüşün altında binlerce kefensiz yatanı.\nSen şehit oğlusun, incitme, yazıktır, atanı:\nVerme, dünyaları alsan da, bu cennet vatanı.\nKim bu cennet vatanın uğruna olmaz ki feda?\nŞuheda fışkıracak toprağı sıksan, şuheda!\nCanı, cananı, bütün varımı alsın da hüda,\nEtmesin tek vatanımdan beni dünyada cüda.\nRuhumun senden, ilahi, şudur ancak emeli:\nDeğmesin mabedimin göğsüne namahrem eli.\nBu ezanlar-ki şahadetleri dinin temeli,\nEbedi yurdumun üstünde benim inlemeli.\n"
     ]
    }
   ],
   "source": [
    "with open(\"istiklal.txt\", \"r\", encoding=\"utf-8\") as f:\n",
    "    print(f.read())"
   ]
  },
  {
   "cell_type": "code",
   "execution_count": 13,
   "metadata": {},
   "outputs": [
    {
     "output_type": "execute_result",
     "data": {
      "text/plain": [
       "dict_keys([1, 2])"
      ]
     },
     "metadata": {},
     "execution_count": 13
    }
   ],
   "source": [
    "word ={1:\"1\",2:\"2\"}\n",
    "keys=word.keys()\n",
    "keys"
   ]
  },
  {
   "cell_type": "code",
   "execution_count": 14,
   "metadata": {},
   "outputs": [
    {
     "output_type": "stream",
     "name": "stdout",
     "text": [
      "{'b': 6, 'i': 2, 'r': 6, ' ': 2, 'e': 6, ',': 1, \"'\": 1, '.': 1}\n"
     ]
    }
   ],
   "source": [
    "string=\"bir berber,bir'e berbere.\"\n",
    "word_dict={}\n",
    "for i in string:\n",
    "    word_dict[i]=string.count(i)\n",
    "print(word_dict)    "
   ]
  },
  {
   "cell_type": "code",
   "execution_count": 42,
   "metadata": {},
   "outputs": [
    {
     "output_type": "stream",
     "name": "stdout",
     "text": [
      "{'str': 3, 'bool': 1, 'tuple': 1, 'dict': 2, 'list': 1, 'set': 1, 'int': 2}\n"
     ]
    }
   ],
   "source": [
    "veri=[\"a\",\"b\",True,(False,1),{\"1\":2},[1,2],{\"2\":\"two\"},{2,\"3\"},\"c\",23,0]\n",
    "veri_list=[]\n",
    "veri_dict={}\n",
    "for i in veri:\n",
    "   veri_list.append(str(type(i)).split('<class')[1].split(\"'\")[1])\n",
    "for i in veri_list:\n",
    "    veri_dict[i]=veri_list.count(i)\n",
    "print(veri_dict)   "
   ]
  },
  {
   "cell_type": "code",
   "execution_count": 19,
   "metadata": {},
   "outputs": [
    {
     "output_type": "stream",
     "name": "stdout",
     "text": [
      "fishes.txt\nistiklal.txt\nrumi.txt\n"
     ]
    }
   ],
   "source": [
    "import glob\n",
    "for file in glob.glob(\"*.txt\"):\n",
    "    print(file)"
   ]
  },
  {
   "cell_type": "code",
   "execution_count": 21,
   "metadata": {},
   "outputs": [
    {
     "output_type": "execute_result",
     "data": {
      "text/plain": [
       "['code_challenge.ipynb',\n",
       " 'ders_calısmalar.ipynb',\n",
       " 'ders_calışmalr_2.ipynb',\n",
       " 'Files.ipynb',\n",
       " 'fishes.txt',\n",
       " 'FUNC_DETAİL.ipynb',\n",
       " 'hello.ipynb',\n",
       " 'istiklal.txt',\n",
       " 'rumi.txt',\n",
       " 'Team_work_7.py',\n",
       " 'Upper_Package',\n",
       " 'workshop-4(student).ipynb']"
      ]
     },
     "metadata": {},
     "execution_count": 21
    }
   ],
   "source": [
    "import os\n",
    "os.listdir()"
   ]
  },
  {
   "cell_type": "code",
   "execution_count": 37,
   "metadata": {},
   "outputs": [
    {
     "output_type": "execute_result",
     "data": {
      "text/plain": [
       "3"
      ]
     },
     "metadata": {},
     "execution_count": 37
    }
   ],
   "source": [
    "le=['str', 'str', 'bool', 'tuple', 'dict', 'list', 'dict', 'set', 'str', 'int', 'int']\n",
    "le.count('str')"
   ]
  },
  {
   "cell_type": "code",
   "execution_count": null,
   "metadata": {},
   "outputs": [],
   "source": [
    "sudoku = [\n",
    "    [0, 0, 0, 0, 6, 4, 0, 0, 0],\n",
    "    [7, 0, 0, 0, 0, 0, 3, 9, 0],\n",
    "    [8, 0, 0, 0, 0, 0, 0, 0, 0],\n",
    "    [0, 0, 0, 5, 0, 2, 0, 6, 0],\n",
    "    [0, 8, 0, 4, 0, 0, 0, 0, 0],\n",
    "    [3, 5, 0, 6, 0, 0, 0, 7, 0],\n",
    "    [0, 0, 2, 0, 0, 0, 1, 0, 3],\n",
    "    [0, 0, 1, 0, 5, 9, 0, 0, 0],\n",
    "    [0, 0, 0, 0, 0, 0, 7, 0, 0]\n",
    "]\n",
    "\n"
   ]
  },
  {
   "cell_type": "code",
   "execution_count": 76,
   "metadata": {},
   "outputs": [
    {
     "output_type": "stream",
     "name": "stdout",
     "text": [
      "- - - - - - - - - - - - - - -  \n0  0  0  | 0  6  4  | 0  0  0  \n7  0  0  | 0  0  0  | 3  9  0  \n8  0  0  | 0  0  0  | 0  0  0  \n- - - - - - - - - - - - - - -  \n0  0  0  | 5  0  2  | 0  6  0  \n0  8  0  | 4  0  0  | 0  0  0  \n3  5  0  | 6  0  0  | 0  7  0  \n- - - - - - - - - - - - - - -  \n0  0  2  | 0  0  0  | 1  0  3  \n0  0  1  | 0  5  9  | 0  0  0  \n0  0  0  | 0  0  0  | 7  0  0  \n- - - - - - - - - - - - - - -  \n"
     ]
    }
   ],
   "source": [
    "sudoku = [\n",
    "    [0, 0, 0, 0, 6, 4, 0, 0, 0],\n",
    "    [7, 0, 0, 0, 0, 0, 3, 9, 0],\n",
    "    [8, 0, 0, 0, 0, 0, 0, 0, 0],\n",
    "    [0, 0, 0, 5, 0, 2, 0, 6, 0],\n",
    "    [0, 8, 0, 4, 0, 0, 0, 0, 0],\n",
    "    [3, 5, 0, 6, 0, 0, 0, 7, 0],\n",
    "    [0, 0, 2, 0, 0, 0, 1, 0, 3],\n",
    "    [0, 0, 1, 0, 5, 9, 0, 0, 0],\n",
    "    [0, 0, 0, 0, 0, 0, 7, 0, 0]\n",
    "]\n",
    "\n",
    "\n",
    "def su_doku(l):\n",
    "   hor_line=\"- - - - - - - - - - - - - - -  \"\n",
    "   count_hor=0\n",
    "   for i in range(len(l)):\n",
    "      if count_hor%3==0:\n",
    "        print(hor_line)\n",
    "      counter=0   \n",
    "      for j in l[i]:\n",
    "         if counter%3==0 and counter!=0:\n",
    "             print(f\"|\",sep=\" \",end=\" \")\n",
    "             print(f\"{j} \",sep=\" \",end=\" \") \n",
    "         else:\n",
    "             print(f\"{j} \",sep=\" \",end=\" \") \n",
    "         counter+=1           \n",
    "      print()\n",
    "      count_hor+=1\n",
    "   print(hor_line)\n",
    "su_doku(sudoku)            \n"
   ]
  },
  {
   "cell_type": "code",
   "execution_count": null,
   "metadata": {},
   "outputs": [],
   "source": [
    "- - - - - - - - - - - - - - - \n",
    "0  0  0  | 0  6  4  | 0  0  0  \n",
    "7  0  0  | 0  0  0  | 3  9  0  \n",
    "8  0  0  | 0  0  0  | 0  0  0  \n",
    "- - - - - - - - - - - - - - - \n",
    "0  0  0  | 5  0  2  | 0  6  0  \n",
    "0  8  0  | 4  0  0  | 0  0  0  \n",
    "3  5  0  | 6  0  0  | 0  7  0  \n",
    "- - - - - - - - - - - - - - - \n",
    "0  0  2  | 0  0  0  | 1  0  3  \n",
    "0  0  1  | 0  5  9  | 0  0  0  \n",
    "0  0  0  | 0  0  0  | 7  0  0  \n",
    "- - - - - - - - - - - - - - -"
   ]
  },
  {
   "cell_type": "code",
   "execution_count": 93,
   "metadata": {},
   "outputs": [
    {
     "output_type": "execute_result",
     "data": {
      "text/plain": [
       "'q'"
      ]
     },
     "metadata": {},
     "execution_count": 93
    }
   ],
   "source": [
    "def rot13(message):\n",
    "    letter='abcdefghijklmnopqrstuvwxyz'\n",
    "    new_m=''\n",
    "    for i in message:\n",
    "        if i.isupper():\n",
    "            new_m+=letter[(letter.index(i.lower())+13)%26].upper()\n",
    "        else:\n",
    "            new_m+=letter[(letter.index(i)+13)%26]\n",
    "    return new_m   \n",
    "rot13(\"d\")            "
   ]
  },
  {
   "cell_type": "code",
   "execution_count": 13,
   "metadata": {},
   "outputs": [
    {
     "output_type": "execute_result",
     "data": {
      "text/plain": [
       "[]"
      ]
     },
     "metadata": {},
     "execution_count": 13
    }
   ],
   "source": [
    "def anagrams(word, words):\n",
    "    counter=0\n",
    "    new_list=[]\n",
    "    check=None\n",
    "    while len(words)-1>=counter:\n",
    "      for i in word: \n",
    "          if i not in words[counter] or len(word)!=len(words[counter]):\n",
    "              check=False\n",
    "              break\n",
    "          elif i in words[counter]:\n",
    "            if word.count(i)!=words[counter].count(i):\n",
    "               check=False\n",
    "            elif word.count(i)==words[counter].count(i):\n",
    "               check=True\n",
    "            \n",
    "      if check==True:\n",
    "        new_list.append(words[counter])\n",
    "      counter+=1\n",
    "    return new_list\n",
    "anagrams('laser', ['lazing', 'lazy',  'lacer'])    "
   ]
  },
  {
   "cell_type": "code",
   "execution_count": 17,
   "metadata": {},
   "outputs": [
    {
     "output_type": "execute_result",
     "data": {
      "text/plain": [
       "(23, 59, 59)"
      ]
     },
     "metadata": {},
     "execution_count": 17
    }
   ],
   "source": [
    "h=86399//3600\n",
    "m,s=(86399%3600)//60,(86399%3600)%60\n",
    "\n",
    "h,m,s"
   ]
  },
  {
   "cell_type": "code",
   "execution_count": 34,
   "metadata": {},
   "outputs": [
    {
     "output_type": "execute_result",
     "data": {
      "text/plain": [
       "'00:00:05'"
      ]
     },
     "metadata": {},
     "execution_count": 34
    }
   ],
   "source": [
    "def make_readable(seconds):\n",
    "    s=''\n",
    "    h,m,s=seconds//3600,(seconds%3600)//60,(seconds%3600)%60\n",
    "    #print(f\"%.2d:%.2d:%.2d\"%(h,m,s))\n",
    "    return f\"{h:02d}:{m:02d}:{s:02d}\"\n",
    "make_readable(5)  "
   ]
  },
  {
   "cell_type": "code",
   "execution_count": null,
   "metadata": {},
   "outputs": [],
   "source": [
    "def sum_pairs(ints, s):\n",
    "   sum=[]\n",
    "   min=0\n",
    "   for i in range(len(ints)):\n",
    "        for j in range(i+1,len(ints)):\n",
    "           if ints[i]+ints[j]==s:\n",
    "                sum.append([ints[i],ints[j],abs(i-j)])\n",
    "   if sum:\n",
    "      return sorted(sum)[0][:-1] \n",
    "   else:\n",
    "       return None  "
   ]
  },
  {
   "cell_type": "code",
   "execution_count": 44,
   "metadata": {},
   "outputs": [
    {
     "output_type": "execute_result",
     "data": {
      "text/plain": [
       "'Equidigital'"
      ]
     },
     "metadata": {},
     "execution_count": 44
    }
   ],
   "source": [
    "def check(x,y):\n",
    "    if x==y:\n",
    "      return \"Equidigital\"\n",
    "    elif x>y:\n",
    "        return  \"Frugal\"\n",
    "    elif x<y:\n",
    "        return   \"Wasteful\"   \n",
    "def is_economical(n):\n",
    "    st,div,top=n,[],0\n",
    "    for i in range(2,n):\n",
    "        while n%i==0:\n",
    "            div.append(i)\n",
    "            n=n//i\n",
    "    if len(set(div))>1:\n",
    "        for i in div:\n",
    "            top+=len(str(i))\n",
    "        return check(len(str(st)),top)\n",
    "    elif len(set(div))==1 and len(div)!=1:\n",
    "       return check(len(str(st)),len(str(div.count(div[0])))+1)\n",
    "    else:\n",
    "       return check(len(str(st)),len(div))\n",
    "\n",
    "    \n",
    "is_economical(123)"
   ]
  },
  {
   "cell_type": "code",
   "execution_count": 13,
   "metadata": {},
   "outputs": [
    {
     "output_type": "execute_result",
     "data": {
      "text/plain": [
       "2"
      ]
     },
     "metadata": {},
     "execution_count": 13
    }
   ],
   "source": [
    " x=[3,41] \n",
    " "
   ]
  },
  {
   "cell_type": "code",
   "execution_count": 7,
   "metadata": {},
   "outputs": [
    {
     "output_type": "execute_result",
     "data": {
      "text/plain": [
       "2"
      ]
     },
     "metadata": {},
     "execution_count": 7
    }
   ],
   "source": [
    "x=30\n",
    "len(str(30))"
   ]
  },
  {
   "cell_type": "code",
   "execution_count": 39,
   "metadata": {},
   "outputs": [
    {
     "output_type": "execute_result",
     "data": {
      "text/plain": [
       "'Frugal'"
      ]
     },
     "metadata": {},
     "execution_count": 39
    }
   ],
   "source": [
    "def is_economical(n):\n",
    "  n1=n\n",
    "  pf = []\n",
    "  upf=[]\n",
    "  for i in range(2,n):\n",
    "    while n1%i==0:\n",
    "      n1=n1//i\n",
    "      pf.append(i)\n",
    "  for i in pf:\n",
    "    if pf.count(i)>1:\n",
    "      upf.append(i)\n",
    "      upf.append(pf.count(i))\n",
    "      pf=list(filter(lambda a:a!=i, pf))\n",
    "    elif pf.count(i)==1:\n",
    "      upf.append(i)\n",
    "      pf=list(filter(lambda a:a!=i, pf))\n",
    "  upf=\"\".join(list(map(str,upf)))\n",
    "  if len(str(n))==len(upf):\n",
    "    return \"Equidigital\"\n",
    "  elif len(str(n)) > len(upf):\n",
    "    return \"Frugal\"\n",
    "  elif len(str(n)) < len(upf):\n",
    "    return \"Wasteful\"\n",
    "is_economical(5)    "
   ]
  },
  {
   "cell_type": "code",
   "execution_count": null,
   "metadata": {},
   "outputs": [],
   "source": []
  }
 ]
}