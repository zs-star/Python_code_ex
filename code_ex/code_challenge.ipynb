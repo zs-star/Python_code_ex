{
 "metadata": {
  "language_info": {
   "codemirror_mode": {
    "name": "ipython",
    "version": 3
   },
   "file_extension": ".py",
   "mimetype": "text/x-python",
   "name": "python",
   "nbconvert_exporter": "python",
   "pygments_lexer": "ipython3",
   "version": "3.9.4-final"
  },
  "orig_nbformat": 2,
  "kernelspec": {
   "name": "python394jvsc74a57bd00ac516125b3ee16d4eaa41f008fade7bad50b808bd1b6d74d2e8ae0015ba9066",
   "display_name": "Python 3.9.4 64-bit"
  },
  "metadata": {
   "interpreter": {
    "hash": "0ac516125b3ee16d4eaa41f008fade7bad50b808bd1b6d74d2e8ae0015ba9066"
   }
  }
 },
 "nbformat": 4,
 "nbformat_minor": 2,
 "cells": [
  {
   "cell_type": "code",
   "execution_count": 1,
   "metadata": {},
   "outputs": [
    {
     "output_type": "stream",
     "name": "stdout",
     "text": [
      "[['eat', 'tea', 'ate'], ['tan', 'nat'], ['bat']]\n"
     ]
    }
   ],
   "source": [
    "mylist = [\"eat\", \"tea\", \"tan\", \"ate\", \"nat\", \"bat\",\"tana\"]\n",
    "emptylist = []\n",
    "for i in mylist:\n",
    "    tempSet = set(i)\n",
    "    templist = []\n",
    "    for j in range(len(mylist)):\n",
    "        if tempSet == tempSet.intersection(set(mylist[j])):\n",
    "            templist.append(mylist[j])\n",
    "    if templist not in emptylist:\n",
    "            emptylist.append(templist)\n",
    "    templist = []\n",
    "print(emptylist)"
   ]
  },
  {
   "cell_type": "code",
   "execution_count": 3,
   "metadata": {},
   "outputs": [
    {
     "output_type": "stream",
     "name": "stdout",
     "text": [
      "[['eat', 'tea', 'ate'], ['tan', 'nat'], ['bat'], ['tana']]\n"
     ]
    }
   ],
   "source": [
    "mylist = [\"eat\", \"tea\", \"tan\", \"ate\", \"nat\", \"bat\",\"tana\"]\n",
    "dict = {}\n",
    "for i in mylist:\n",
    "  key = tuple(sorted(i))\n",
    "  dict.setdefault(key,[]).append(i)\n",
    "print(list(dict.values()))  "
   ]
  },
  {
   "cell_type": "code",
   "execution_count": null,
   "metadata": {},
   "outputs": [],
   "source": []
  }
 ]
}