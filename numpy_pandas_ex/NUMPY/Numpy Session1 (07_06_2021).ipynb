{
 "cells": [
  {
   "cell_type": "code",
   "execution_count": 3,
   "id": "324874d4",
   "metadata": {},
   "outputs": [],
   "source": [
    "import numpy as np "
   ]
  },
  {
   "cell_type": "code",
   "execution_count": null,
   "id": "b228ffb6",
   "metadata": {},
   "outputs": [],
   "source": [
    "# array (diziler)"
   ]
  },
  {
   "cell_type": "code",
   "execution_count": 7,
   "id": "d70bc7d8",
   "metadata": {},
   "outputs": [
    {
     "data": {
      "text/plain": [
       "[1, 2, 3]"
      ]
     },
     "execution_count": 7,
     "metadata": {},
     "output_type": "execute_result"
    }
   ],
   "source": [
    "my_list=[1,2,3]\n",
    "my_list"
   ]
  },
  {
   "cell_type": "code",
   "execution_count": 8,
   "id": "194089aa",
   "metadata": {},
   "outputs": [
    {
     "data": {
      "text/plain": [
       "array([1, 2, 3])"
      ]
     },
     "execution_count": 8,
     "metadata": {},
     "output_type": "execute_result"
    }
   ],
   "source": [
    "np.array(my_list)"
   ]
  },
  {
   "cell_type": "code",
   "execution_count": 10,
   "id": "540f7016",
   "metadata": {},
   "outputs": [],
   "source": [
    "arr=np.array(my_list)"
   ]
  },
  {
   "cell_type": "code",
   "execution_count": 11,
   "id": "4fc4bdfb",
   "metadata": {},
   "outputs": [
    {
     "data": {
      "text/plain": [
       "numpy.ndarray"
      ]
     },
     "execution_count": 11,
     "metadata": {},
     "output_type": "execute_result"
    }
   ],
   "source": [
    "type(arr)"
   ]
  },
  {
   "cell_type": "code",
   "execution_count": 12,
   "id": "c011604a",
   "metadata": {},
   "outputs": [],
   "source": [
    "a = [1,2,3,4]\n",
    "b = [2,3,4,5]"
   ]
  },
  {
   "cell_type": "code",
   "execution_count": 14,
   "id": "27c01896",
   "metadata": {},
   "outputs": [
    {
     "data": {
      "text/plain": [
       "[2, 6, 12, 20]"
      ]
     },
     "execution_count": 14,
     "metadata": {},
     "output_type": "execute_result"
    }
   ],
   "source": [
    "ab = []\n",
    "\n",
    "for i in range(0, len(a)):\n",
    "    ab.append(a[i] * b[i])\n",
    "\n",
    "ab"
   ]
  },
  {
   "cell_type": "code",
   "execution_count": 16,
   "id": "8fc5a0c5",
   "metadata": {},
   "outputs": [],
   "source": [
    "a1 = np.array(a)\n",
    "b1 = np.array(b)"
   ]
  },
  {
   "cell_type": "code",
   "execution_count": 17,
   "id": "028061a2",
   "metadata": {},
   "outputs": [
    {
     "data": {
      "text/plain": [
       "array([ 2,  6, 12, 20])"
      ]
     },
     "execution_count": 17,
     "metadata": {},
     "output_type": "execute_result"
    }
   ],
   "source": [
    "a1 * b1"
   ]
  },
  {
   "cell_type": "code",
   "execution_count": 18,
   "id": "c850cf33",
   "metadata": {},
   "outputs": [],
   "source": [
    "my_matrix = [[1,2,3],[4,5,6],[7,8,9]]"
   ]
  },
  {
   "cell_type": "code",
   "execution_count": 19,
   "id": "4dc2560d",
   "metadata": {},
   "outputs": [
    {
     "data": {
      "text/plain": [
       "array([[1, 2, 3],\n",
       "       [4, 5, 6],\n",
       "       [7, 8, 9]])"
      ]
     },
     "execution_count": 19,
     "metadata": {},
     "output_type": "execute_result"
    }
   ],
   "source": [
    "np.array(my_matrix)"
   ]
  },
  {
   "cell_type": "code",
   "execution_count": null,
   "id": "b65250e8",
   "metadata": {},
   "outputs": [],
   "source": [
    "# arange (pythondaki range ile mantık aynı)"
   ]
  },
  {
   "cell_type": "code",
   "execution_count": 20,
   "id": "b20e19af",
   "metadata": {},
   "outputs": [
    {
     "data": {
      "text/plain": [
       "array([0, 1, 2, 3, 4, 5, 6, 7, 8, 9])"
      ]
     },
     "execution_count": 20,
     "metadata": {},
     "output_type": "execute_result"
    }
   ],
   "source": [
    "np.arange(0,10)"
   ]
  },
  {
   "cell_type": "code",
   "execution_count": 21,
   "id": "62af8ab4",
   "metadata": {},
   "outputs": [
    {
     "data": {
      "text/plain": [
       "array([ 0,  2,  4,  6,  8, 10])"
      ]
     },
     "execution_count": 21,
     "metadata": {},
     "output_type": "execute_result"
    }
   ],
   "source": [
    "np.arange(0,11,2)"
   ]
  },
  {
   "cell_type": "code",
   "execution_count": 22,
   "id": "b7f6929c",
   "metadata": {},
   "outputs": [
    {
     "data": {
      "text/plain": [
       "array([ 0,  3,  6,  9, 12, 15, 18, 21, 24, 27, 30])"
      ]
     },
     "execution_count": 22,
     "metadata": {},
     "output_type": "execute_result"
    }
   ],
   "source": [
    "np.arange(0,31,3)"
   ]
  },
  {
   "cell_type": "code",
   "execution_count": null,
   "id": "7f4577a3",
   "metadata": {},
   "outputs": [],
   "source": [
    "# zeros, ones, full (birler ve sıfırlar dizileri/matrisleri)"
   ]
  },
  {
   "cell_type": "code",
   "execution_count": 23,
   "id": "4681a849",
   "metadata": {},
   "outputs": [
    {
     "data": {
      "text/plain": [
       "array([0., 0., 0.])"
      ]
     },
     "execution_count": 23,
     "metadata": {},
     "output_type": "execute_result"
    }
   ],
   "source": [
    "np.zeros(3)"
   ]
  },
  {
   "cell_type": "code",
   "execution_count": 24,
   "id": "878aaf35",
   "metadata": {},
   "outputs": [
    {
     "data": {
      "text/plain": [
       "array([0., 0., 0., 0., 0., 0., 0., 0., 0., 0.])"
      ]
     },
     "execution_count": 24,
     "metadata": {},
     "output_type": "execute_result"
    }
   ],
   "source": [
    "np.zeros(10)"
   ]
  },
  {
   "cell_type": "code",
   "execution_count": 25,
   "id": "dd925230",
   "metadata": {},
   "outputs": [
    {
     "data": {
      "text/plain": [
       "array([[False, False, False],\n",
       "       [False, False, False],\n",
       "       [False, False, False]])"
      ]
     },
     "execution_count": 25,
     "metadata": {},
     "output_type": "execute_result"
    }
   ],
   "source": [
    "np.zeros((3,3),dtype=bool)"
   ]
  },
  {
   "cell_type": "code",
   "execution_count": 29,
   "id": "efc4ea81",
   "metadata": {},
   "outputs": [
    {
     "data": {
      "text/plain": [
       "array([[ True,  True,  True,  True,  True,  True,  True,  True,  True,\n",
       "         True],\n",
       "       [ True,  True,  True,  True,  True,  True,  True,  True,  True,\n",
       "         True],\n",
       "       [ True,  True,  True,  True,  True,  True,  True,  True,  True,\n",
       "         True],\n",
       "       [ True,  True,  True,  True,  True,  True,  True,  True,  True,\n",
       "         True],\n",
       "       [ True,  True,  True,  True,  True,  True,  True,  True,  True,\n",
       "         True],\n",
       "       [ True,  True,  True,  True,  True,  True,  True,  True,  True,\n",
       "         True],\n",
       "       [ True,  True,  True,  True,  True,  True,  True,  True,  True,\n",
       "         True],\n",
       "       [ True,  True,  True,  True,  True,  True,  True,  True,  True,\n",
       "         True],\n",
       "       [ True,  True,  True,  True,  True,  True,  True,  True,  True,\n",
       "         True],\n",
       "       [ True,  True,  True,  True,  True,  True,  True,  True,  True,\n",
       "         True]])"
      ]
     },
     "execution_count": 29,
     "metadata": {},
     "output_type": "execute_result"
    }
   ],
   "source": [
    "np.full((10,10), True)"
   ]
  },
  {
   "cell_type": "code",
   "execution_count": 26,
   "id": "41120311",
   "metadata": {},
   "outputs": [
    {
     "data": {
      "text/plain": [
       "array([[3, 3, 3, 3, 3],\n",
       "       [3, 3, 3, 3, 3],\n",
       "       [3, 3, 3, 3, 3]])"
      ]
     },
     "execution_count": 26,
     "metadata": {},
     "output_type": "execute_result"
    }
   ],
   "source": [
    "np.full((3,5),3)"
   ]
  },
  {
   "cell_type": "code",
   "execution_count": 27,
   "id": "5a398a59",
   "metadata": {},
   "outputs": [
    {
     "data": {
      "text/plain": [
       "array([['3', '3', '3', '3'],\n",
       "       ['3', '3', '3', '3'],\n",
       "       ['3', '3', '3', '3'],\n",
       "       ['3', '3', '3', '3']], dtype='<U1')"
      ]
     },
     "execution_count": 27,
     "metadata": {},
     "output_type": "execute_result"
    }
   ],
   "source": [
    "np.full((4,4),\"3\")"
   ]
  },
  {
   "cell_type": "code",
   "execution_count": null,
   "id": "bb61b8a4",
   "metadata": {},
   "outputs": [],
   "source": [
    "# linspace (start,stop,how_many_equal_pats) start and stop values included"
   ]
  },
  {
   "cell_type": "code",
   "execution_count": 30,
   "id": "2741930e",
   "metadata": {},
   "outputs": [
    {
     "data": {
      "text/plain": [
       "array([ 0.,  5., 10.])"
      ]
     },
     "execution_count": 30,
     "metadata": {},
     "output_type": "execute_result"
    }
   ],
   "source": [
    "np.linspace(0,10,3)"
   ]
  },
  {
   "cell_type": "code",
   "execution_count": 32,
   "id": "531e9bfc",
   "metadata": {},
   "outputs": [
    {
     "data": {
      "text/plain": [
       "array([ 0.        ,  0.34482759,  0.68965517,  1.03448276,  1.37931034,\n",
       "        1.72413793,  2.06896552,  2.4137931 ,  2.75862069,  3.10344828,\n",
       "        3.44827586,  3.79310345,  4.13793103,  4.48275862,  4.82758621,\n",
       "        5.17241379,  5.51724138,  5.86206897,  6.20689655,  6.55172414,\n",
       "        6.89655172,  7.24137931,  7.5862069 ,  7.93103448,  8.27586207,\n",
       "        8.62068966,  8.96551724,  9.31034483,  9.65517241, 10.        ])"
      ]
     },
     "execution_count": 32,
     "metadata": {},
     "output_type": "execute_result"
    }
   ],
   "source": [
    "np.linspace(0,10,30)"
   ]
  },
  {
   "cell_type": "code",
   "execution_count": 33,
   "id": "78dd94b8",
   "metadata": {},
   "outputs": [
    {
     "data": {
      "text/plain": [
       "array([ 0.        ,  0.20408163,  0.40816327,  0.6122449 ,  0.81632653,\n",
       "        1.02040816,  1.2244898 ,  1.42857143,  1.63265306,  1.83673469,\n",
       "        2.04081633,  2.24489796,  2.44897959,  2.65306122,  2.85714286,\n",
       "        3.06122449,  3.26530612,  3.46938776,  3.67346939,  3.87755102,\n",
       "        4.08163265,  4.28571429,  4.48979592,  4.69387755,  4.89795918,\n",
       "        5.10204082,  5.30612245,  5.51020408,  5.71428571,  5.91836735,\n",
       "        6.12244898,  6.32653061,  6.53061224,  6.73469388,  6.93877551,\n",
       "        7.14285714,  7.34693878,  7.55102041,  7.75510204,  7.95918367,\n",
       "        8.16326531,  8.36734694,  8.57142857,  8.7755102 ,  8.97959184,\n",
       "        9.18367347,  9.3877551 ,  9.59183673,  9.79591837, 10.        ])"
      ]
     },
     "execution_count": 33,
     "metadata": {},
     "output_type": "execute_result"
    }
   ],
   "source": [
    "np.linspace(0,10)"
   ]
  },
  {
   "cell_type": "code",
   "execution_count": 34,
   "id": "1953299e",
   "metadata": {},
   "outputs": [
    {
     "data": {
      "text/plain": [
       "array([ 0,  5, 11, 16, 22, 27, 33, 38, 44, 50])"
      ]
     },
     "execution_count": 34,
     "metadata": {},
     "output_type": "execute_result"
    }
   ],
   "source": [
    "np.linspace(0,50,10,dtype=\"int\")"
   ]
  },
  {
   "cell_type": "code",
   "execution_count": null,
   "id": "34cca9cf",
   "metadata": {},
   "outputs": [],
   "source": [
    "# eye (identity matrix) birim matris gibi düşün, çarpınca matrisin tersini verir."
   ]
  },
  {
   "cell_type": "code",
   "execution_count": 35,
   "id": "ec0cae64",
   "metadata": {},
   "outputs": [
    {
     "data": {
      "text/plain": [
       "array([[1., 0., 0., 0., 0.],\n",
       "       [0., 1., 0., 0., 0.],\n",
       "       [0., 0., 1., 0., 0.],\n",
       "       [0., 0., 0., 1., 0.],\n",
       "       [0., 0., 0., 0., 1.]])"
      ]
     },
     "execution_count": 35,
     "metadata": {},
     "output_type": "execute_result"
    }
   ],
   "source": [
    "np.eye(5)"
   ]
  },
  {
   "cell_type": "code",
   "execution_count": null,
   "id": "72558227",
   "metadata": {},
   "outputs": [],
   "source": [
    "# random (rastgele) rastgele atama yapar"
   ]
  },
  {
   "cell_type": "code",
   "execution_count": 36,
   "id": "99948d17",
   "metadata": {},
   "outputs": [
    {
     "data": {
      "text/plain": [
       "array([0.13736657, 0.62717082, 0.69291173, 0.39039447, 0.81084707,\n",
       "       0.35317481, 0.63284984, 0.04215259, 0.40004996, 0.38810975])"
      ]
     },
     "execution_count": 36,
     "metadata": {},
     "output_type": "execute_result"
    }
   ],
   "source": [
    "np.random.rand(10)  # rastgele değerler"
   ]
  },
  {
   "cell_type": "code",
   "execution_count": 37,
   "id": "b7488e74",
   "metadata": {},
   "outputs": [
    {
     "data": {
      "text/plain": [
       "array([[5.38250191e-01, 4.54293917e-01, 9.64754253e-01, 1.18893741e-01,\n",
       "        6.90306166e-02],\n",
       "       [1.15139056e-01, 5.02782578e-01, 3.23883064e-01, 5.58471920e-01,\n",
       "        2.61463729e-01],\n",
       "       [2.74392897e-01, 2.27207189e-01, 5.67456442e-01, 3.14967745e-01,\n",
       "        8.33228895e-01],\n",
       "       [9.77620427e-01, 1.00213318e-01, 1.22711674e-02, 2.15954939e-01,\n",
       "        7.70651416e-01],\n",
       "       [1.86022938e-01, 1.01188227e-01, 9.44257987e-04, 6.44909192e-01,\n",
       "        7.45113423e-01]])"
      ]
     },
     "execution_count": 37,
     "metadata": {},
     "output_type": "execute_result"
    }
   ],
   "source": [
    "np.random.rand(5,5)"
   ]
  },
  {
   "cell_type": "code",
   "execution_count": 4,
   "id": "f0b82894",
   "metadata": {},
   "outputs": [],
   "source": [
    "import matplotlib.pyplot as plt"
   ]
  },
  {
   "cell_type": "code",
   "execution_count": 44,
   "id": "78d4bdba",
   "metadata": {},
   "outputs": [
    {
     "data": {
      "text/plain": [
       "(array([25339., 25158., 25063., 24992., 25309., 24679., 25183., 24823.,\n",
       "        25063., 24860., 25147., 24936., 24850., 25041., 24839., 25009.,\n",
       "        24905., 24967., 25125., 25026., 25124., 24945., 25044., 24833.,\n",
       "        24990., 24920., 24752., 24980., 24673., 25051., 25130., 25017.,\n",
       "        25239., 25064., 24792., 25199., 25061., 24967., 25047., 24858.]),\n",
       " array([2.91199740e-07, 2.50002638e-02, 5.00002364e-02, 7.50002090e-02,\n",
       "        1.00000182e-01, 1.25000154e-01, 1.50000127e-01, 1.75000099e-01,\n",
       "        2.00000072e-01, 2.25000045e-01, 2.50000017e-01, 2.74999990e-01,\n",
       "        2.99999963e-01, 3.24999935e-01, 3.49999908e-01, 3.74999880e-01,\n",
       "        3.99999853e-01, 4.24999826e-01, 4.49999798e-01, 4.74999771e-01,\n",
       "        4.99999743e-01, 5.24999716e-01, 5.49999689e-01, 5.74999661e-01,\n",
       "        5.99999634e-01, 6.24999606e-01, 6.49999579e-01, 6.74999552e-01,\n",
       "        6.99999524e-01, 7.24999497e-01, 7.49999469e-01, 7.74999442e-01,\n",
       "        7.99999415e-01, 8.24999387e-01, 8.49999360e-01, 8.74999333e-01,\n",
       "        8.99999305e-01, 9.24999278e-01, 9.49999250e-01, 9.74999223e-01,\n",
       "        9.99999196e-01]),\n",
       " <BarContainer object of 40 artists>)"
      ]
     },
     "execution_count": 44,
     "metadata": {},
     "output_type": "execute_result"
    },
    {
     "data": {
      "image/png": "[encoded data removed]",
      "text/plain": [
       "<Figure size 432x288 with 1 Axes>"
      ]
     },
     "metadata": {
      "needs_background": "light"
     },
     "output_type": "display_data"
    }
   ],
   "source": [
    "plt.hist(np.random.rand(1000000),bins=40)"
   ]
  },
  {
   "cell_type": "code",
   "execution_count": null,
   "id": "ede1e28b",
   "metadata": {},
   "outputs": [],
   "source": [
    "# randn (standard normal distribution) uniform rand"
   ]
  },
  {
   "cell_type": "code",
   "execution_count": 42,
   "id": "d69c16da",
   "metadata": {},
   "outputs": [
    {
     "data": {
      "text/plain": [
       "array([-0.34973569,  1.33358004,  1.10668507, -0.1786188 ,  1.78121445,\n",
       "        0.11751613,  0.54694877,  0.33633946,  0.11181767, -0.39120068])"
      ]
     },
     "execution_count": 42,
     "metadata": {},
     "output_type": "execute_result"
    }
   ],
   "source": [
    "np.random.randn(10) # uniform rastgele değerler atar "
   ]
  },
  {
   "cell_type": "code",
   "execution_count": 43,
   "id": "e3eada04",
   "metadata": {},
   "outputs": [
    {
     "data": {
      "text/plain": [
       "array([[-0.02220517, -0.78337502, -0.9751707 ,  0.84297364,  1.35363716],\n",
       "       [-0.89516861,  0.62246378,  0.09412586, -0.94083317, -1.93420944],\n",
       "       [ 2.16128779, -0.23495069, -1.16216061,  1.24458653, -0.73880057],\n",
       "       [-1.1007237 ,  1.27976632,  0.29740652, -0.59306428, -0.33610774],\n",
       "       [-0.86296587, -0.98157421,  1.0814401 ,  0.63435161, -0.11289892]])"
      ]
     },
     "execution_count": 43,
     "metadata": {},
     "output_type": "execute_result"
    }
   ],
   "source": [
    "np.random.randn(5,5)"
   ]
  },
  {
   "cell_type": "code",
   "execution_count": 45,
   "id": "02a97337",
   "metadata": {},
   "outputs": [
    {
     "data": {
      "text/plain": [
       "(array([4.0000e+00, 6.0000e+00, 8.0000e+00, 3.4000e+01, 5.9000e+01,\n",
       "        1.1200e+02, 2.4300e+02, 3.8100e+02, 6.9100e+02, 1.0670e+03,\n",
       "        1.8820e+03, 2.9150e+03, 4.4490e+03, 6.7220e+03, 1.0149e+04,\n",
       "        1.3903e+04, 1.8931e+04, 2.4780e+04, 3.1702e+04, 3.8844e+04,\n",
       "        4.7341e+04, 5.4506e+04, 6.1105e+04, 6.6154e+04, 6.9813e+04,\n",
       "        7.1346e+04, 7.0892e+04, 6.7699e+04, 6.2021e+04, 5.5841e+04,\n",
       "        4.9191e+04, 4.1063e+04, 3.3350e+04, 2.6511e+04, 2.0119e+04,\n",
       "        1.4963e+04, 1.0707e+04, 7.4760e+03, 4.9740e+03, 3.1840e+03,\n",
       "        2.0460e+03, 1.1930e+03, 7.2900e+02, 4.3400e+02, 2.2400e+02,\n",
       "        1.2400e+02, 5.4000e+01, 2.7000e+01, 1.6000e+01, 8.0000e+00,\n",
       "        6.0000e+00, 0.0000e+00, 0.0000e+00, 0.0000e+00, 1.0000e+00]),\n",
       " array([-4.58634434, -4.40732123, -4.22829812, -4.04927501, -3.8702519 ,\n",
       "        -3.69122879, -3.51220568, -3.33318258, -3.15415947, -2.97513636,\n",
       "        -2.79611325, -2.61709014, -2.43806703, -2.25904392, -2.08002081,\n",
       "        -1.9009977 , -1.72197459, -1.54295148, -1.36392837, -1.18490526,\n",
       "        -1.00588215, -0.82685905, -0.64783594, -0.46881283, -0.28978972,\n",
       "        -0.11076661,  0.0682565 ,  0.24727961,  0.42630272,  0.60532583,\n",
       "         0.78434894,  0.96337205,  1.14239516,  1.32141827,  1.50044138,\n",
       "         1.67946449,  1.85848759,  2.0375107 ,  2.21653381,  2.39555692,\n",
       "         2.57458003,  2.75360314,  2.93262625,  3.11164936,  3.29067247,\n",
       "         3.46969558,  3.64871869,  3.8277418 ,  4.00676491,  4.18578802,\n",
       "         4.36481113,  4.54383423,  4.72285734,  4.90188045,  5.08090356,\n",
       "         5.25992667]),\n",
       " <BarContainer object of 55 artists>)"
      ]
     },
     "execution_count": 45,
     "metadata": {},
     "output_type": "execute_result"
    },
    {
     "data": {
      "image/png": "[encoded data removed]",
      "text/plain": [
       "<Figure size 432x288 with 1 Axes>"
      ]
     },
     "metadata": {
      "needs_background": "light"
     },
     "output_type": "display_data"
    }
   ],
   "source": [
    "plt.hist(np.random.randn(1000000),bins=55)"
   ]
  },
  {
   "cell_type": "code",
   "execution_count": 5,
   "id": "a18d38fa",
   "metadata": {},
   "outputs": [
    {
     "data": {
      "text/plain": [
       "0.01270768358753968"
      ]
     },
     "execution_count": 5,
     "metadata": {},
     "output_type": "execute_result"
    }
   ],
   "source": [
    "np.random.randn(1000).mean()"
   ]
  },
  {
   "cell_type": "code",
   "execution_count": 6,
   "id": "823132a7",
   "metadata": {},
   "outputs": [
    {
     "data": {
      "text/plain": [
       "1.0268206195553669"
      ]
     },
     "execution_count": 6,
     "metadata": {},
     "output_type": "execute_result"
    }
   ],
   "source": [
    "np.random.randn(1000).std()"
   ]
  },
  {
   "cell_type": "code",
   "execution_count": null,
   "id": "0eb79316",
   "metadata": {},
   "outputs": [],
   "source": [
    "# randint (rastgele integer sayılar)"
   ]
  },
  {
   "cell_type": "code",
   "execution_count": 7,
   "id": "6c6865a3",
   "metadata": {},
   "outputs": [
    {
     "data": {
      "text/plain": [
       "array([79, 98, 18, 48, 39, 43, 87, 98, 24, 65])"
      ]
     },
     "execution_count": 7,
     "metadata": {},
     "output_type": "execute_result"
    }
   ],
   "source": [
    "np.random.randint(1,100,10)"
   ]
  },
  {
   "cell_type": "code",
   "execution_count": 8,
   "id": "4dd12692",
   "metadata": {},
   "outputs": [
    {
     "data": {
      "text/plain": [
       "array([9, 9, 6, 3, 5, 0, 7, 3, 5, 4])"
      ]
     },
     "execution_count": 8,
     "metadata": {},
     "output_type": "execute_result"
    }
   ],
   "source": [
    "np.random.randint(10,size=10)"
   ]
  },
  {
   "cell_type": "code",
   "execution_count": 9,
   "id": "05360887",
   "metadata": {},
   "outputs": [
    {
     "data": {
      "text/plain": [
       "array([0, 2, 3, 4, 5, 3, 7, 6, 3, 1])"
      ]
     },
     "execution_count": 9,
     "metadata": {},
     "output_type": "execute_result"
    }
   ],
   "source": [
    "np.random.randint(0,10,10)"
   ]
  },
  {
   "cell_type": "code",
   "execution_count": null,
   "id": "e2db615a",
   "metadata": {},
   "outputs": [],
   "source": [
    "# shape, reshape matris ve dizinin boyut ve şeklini öğrenmek veya yeniden şekillendirmek için"
   ]
  },
  {
   "cell_type": "code",
   "execution_count": 19,
   "id": "2a5a1069",
   "metadata": {},
   "outputs": [],
   "source": [
    "arr = np.array([[1, 2, 3, 4], [5, 6, 7, 8]])"
   ]
  },
  {
   "cell_type": "code",
   "execution_count": 20,
   "id": "c9a7d286",
   "metadata": {},
   "outputs": [
    {
     "data": {
      "text/plain": [
       "(2, 4)"
      ]
     },
     "execution_count": 20,
     "metadata": {},
     "output_type": "execute_result"
    }
   ],
   "source": [
    "arr.shape"
   ]
  },
  {
   "cell_type": "code",
   "execution_count": 23,
   "id": "bc5ba2a3",
   "metadata": {},
   "outputs": [
    {
     "data": {
      "text/plain": [
       "array([ 1,  2,  3,  4,  5,  6,  7,  8,  9, 10, 11, 12])"
      ]
     },
     "execution_count": 23,
     "metadata": {},
     "output_type": "execute_result"
    }
   ],
   "source": [
    "arr3 = np.array([1, 2, 3, 4, 5, 6, 7, 8, 9, 10, 11, 12])\n",
    "arr3"
   ]
  },
  {
   "cell_type": "code",
   "execution_count": 25,
   "id": "14742db0",
   "metadata": {},
   "outputs": [
    {
     "data": {
      "text/plain": [
       "array([[ 1,  2,  3],\n",
       "       [ 4,  5,  6],\n",
       "       [ 7,  8,  9],\n",
       "       [10, 11, 12]])"
      ]
     },
     "execution_count": 25,
     "metadata": {},
     "output_type": "execute_result"
    }
   ],
   "source": [
    "newarr = arr3.reshape(4, 3)\n",
    "newarr"
   ]
  },
  {
   "cell_type": "code",
   "execution_count": null,
   "id": "a9b22e65",
   "metadata": {},
   "outputs": [],
   "source": [
    "# max,min,argmax,argmin (max ve min değerlerini bulup bunların hangi eleman olduklarını gösterir)"
   ]
  },
  {
   "cell_type": "code",
   "execution_count": 32,
   "id": "45d41501",
   "metadata": {},
   "outputs": [
    {
     "data": {
      "text/plain": [
       "array([25, 99, 63, 45, 98, 75, 89, 24, 76, 47])"
      ]
     },
     "execution_count": 32,
     "metadata": {},
     "output_type": "execute_result"
    }
   ],
   "source": [
    "emir = np.random.randint(1,100,10)\n",
    "emir"
   ]
  },
  {
   "cell_type": "code",
   "execution_count": 33,
   "id": "1b64531d",
   "metadata": {},
   "outputs": [
    {
     "data": {
      "text/plain": [
       "99"
      ]
     },
     "execution_count": 33,
     "metadata": {},
     "output_type": "execute_result"
    }
   ],
   "source": [
    "np.max(emir)"
   ]
  },
  {
   "cell_type": "code",
   "execution_count": 42,
   "id": "4118445b",
   "metadata": {},
   "outputs": [
    {
     "data": {
      "text/plain": [
       "24"
      ]
     },
     "execution_count": 42,
     "metadata": {},
     "output_type": "execute_result"
    }
   ],
   "source": [
    "np.min(emir)"
   ]
  },
  {
   "cell_type": "code",
   "execution_count": 41,
   "id": "55482469",
   "metadata": {},
   "outputs": [
    {
     "data": {
      "text/plain": [
       "1"
      ]
     },
     "execution_count": 41,
     "metadata": {},
     "output_type": "execute_result"
    }
   ],
   "source": [
    "np.argmax(emir, axis=0)"
   ]
  },
  {
   "cell_type": "code",
   "execution_count": 38,
   "id": "f05f5359",
   "metadata": {},
   "outputs": [
    {
     "data": {
      "text/plain": [
       "7"
      ]
     },
     "execution_count": 38,
     "metadata": {},
     "output_type": "execute_result"
    }
   ],
   "source": [
    "np.argmin(emir)"
   ]
  },
  {
   "cell_type": "code",
   "execution_count": null,
   "id": "a9718b27",
   "metadata": {},
   "outputs": [],
   "source": [
    "# Concatenate (birleştirme satır ve sütun bazlı)"
   ]
  },
  {
   "cell_type": "code",
   "execution_count": 45,
   "id": "7abe85fe",
   "metadata": {},
   "outputs": [
    {
     "data": {
      "text/plain": [
       "array([8, 4, 7, 2, 7, 5, 9, 3, 6, 3])"
      ]
     },
     "execution_count": 45,
     "metadata": {},
     "output_type": "execute_result"
    }
   ],
   "source": [
    "a = np.random.randint(1,10,10)\n",
    "a"
   ]
  },
  {
   "cell_type": "code",
   "execution_count": 46,
   "id": "1a0c9781",
   "metadata": {},
   "outputs": [
    {
     "data": {
      "text/plain": [
       "array([12, 10, 11, 10, 19, 11, 19, 10, 15, 15])"
      ]
     },
     "execution_count": 46,
     "metadata": {},
     "output_type": "execute_result"
    }
   ],
   "source": [
    "b = np.random.randint(10,20,10)\n",
    "b"
   ]
  },
  {
   "cell_type": "code",
   "execution_count": 49,
   "id": "65215260",
   "metadata": {},
   "outputs": [
    {
     "data": {
      "text/plain": [
       "array([ 8,  4,  7,  2,  7,  5,  9,  3,  6,  3, 12, 10, 11, 10, 19, 11, 19,\n",
       "       10, 15, 15])"
      ]
     },
     "execution_count": 49,
     "metadata": {},
     "output_type": "execute_result"
    }
   ],
   "source": [
    "ab = np.concatenate([a,b])\n",
    "ab"
   ]
  },
  {
   "cell_type": "code",
   "execution_count": 55,
   "id": "2277fa34",
   "metadata": {},
   "outputs": [],
   "source": [
    "x = np.array([[1, 2], [3, 4]])\n",
    "y = np.array([[5, 6], [7, 8]])"
   ]
  },
  {
   "cell_type": "code",
   "execution_count": 56,
   "id": "38ff3ba1",
   "metadata": {},
   "outputs": [
    {
     "data": {
      "text/plain": [
       "array([[1, 2],\n",
       "       [3, 4],\n",
       "       [5, 6],\n",
       "       [7, 8]])"
      ]
     },
     "execution_count": 56,
     "metadata": {},
     "output_type": "execute_result"
    }
   ],
   "source": [
    "np.concatenate((x,y), axis=0)"
   ]
  },
  {
   "cell_type": "code",
   "execution_count": 57,
   "id": "b88a5121",
   "metadata": {},
   "outputs": [
    {
     "data": {
      "text/plain": [
       "array([[1, 2, 5, 6],\n",
       "       [3, 4, 7, 8]])"
      ]
     },
     "execution_count": 57,
     "metadata": {},
     "output_type": "execute_result"
    }
   ],
   "source": [
    "np.concatenate((x,y), axis=1)"
   ]
  },
  {
   "cell_type": "code",
   "execution_count": null,
   "id": "18a36765",
   "metadata": {},
   "outputs": [],
   "source": [
    "# split (bölme satır ve sütun bazlı)"
   ]
  },
  {
   "cell_type": "code",
   "execution_count": 62,
   "id": "cb4b49c2",
   "metadata": {},
   "outputs": [
    {
     "data": {
      "text/plain": [
       "array([1, 2, 3, 4, 5, 6])"
      ]
     },
     "execution_count": 62,
     "metadata": {},
     "output_type": "execute_result"
    }
   ],
   "source": [
    "x = np.array([1,2,3,4,5,6])\n",
    "x"
   ]
  },
  {
   "cell_type": "code",
   "execution_count": 64,
   "id": "cc196d25",
   "metadata": {},
   "outputs": [
    {
     "data": {
      "text/plain": [
       "[array([1, 2, 3]), array([4, 5]), array([6])]"
      ]
     },
     "execution_count": 64,
     "metadata": {},
     "output_type": "execute_result"
    }
   ],
   "source": [
    "np.split(x,[3,5])"
   ]
  },
  {
   "cell_type": "code",
   "execution_count": null,
   "id": "08f54755",
   "metadata": {},
   "outputs": [],
   "source": [
    "# 2 boyutlu diziler için satır bazında bölme vsplit"
   ]
  },
  {
   "cell_type": "code",
   "execution_count": 58,
   "id": "02788ee7",
   "metadata": {},
   "outputs": [
    {
     "data": {
      "text/plain": [
       "array([[ 0,  1,  2,  3],\n",
       "       [ 4,  5,  6,  7],\n",
       "       [ 8,  9, 10, 11],\n",
       "       [12, 13, 14, 15],\n",
       "       [16, 17, 18, 19]])"
      ]
     },
     "execution_count": 58,
     "metadata": {},
     "output_type": "execute_result"
    }
   ],
   "source": [
    "m = np.arange(20).reshape(5,4)\n",
    "m"
   ]
  },
  {
   "cell_type": "code",
   "execution_count": 59,
   "id": "333b58cc",
   "metadata": {},
   "outputs": [
    {
     "data": {
      "text/plain": [
       "[array([[0, 1, 2, 3]]),\n",
       " array([[ 4,  5,  6,  7],\n",
       "        [ 8,  9, 10, 11]]),\n",
       " array([[12, 13, 14, 15],\n",
       "        [16, 17, 18, 19]])]"
      ]
     },
     "execution_count": 59,
     "metadata": {},
     "output_type": "execute_result"
    }
   ],
   "source": [
    "np.vsplit(m,[1,3])"
   ]
  },
  {
   "cell_type": "code",
   "execution_count": 67,
   "id": "54f5d3c5",
   "metadata": {},
   "outputs": [],
   "source": [
    "upper , lower = np.vsplit(m,[3])"
   ]
  },
  {
   "cell_type": "code",
   "execution_count": 68,
   "id": "f8371658",
   "metadata": {},
   "outputs": [
    {
     "data": {
      "text/plain": [
       "array([[ 0,  1,  2,  3],\n",
       "       [ 4,  5,  6,  7],\n",
       "       [ 8,  9, 10, 11]])"
      ]
     },
     "execution_count": 68,
     "metadata": {},
     "output_type": "execute_result"
    }
   ],
   "source": [
    "upper"
   ]
  },
  {
   "cell_type": "code",
   "execution_count": 69,
   "id": "6e89b0b5",
   "metadata": {},
   "outputs": [
    {
     "data": {
      "text/plain": [
       "array([[12, 13, 14, 15],\n",
       "       [16, 17, 18, 19]])"
      ]
     },
     "execution_count": 69,
     "metadata": {},
     "output_type": "execute_result"
    }
   ],
   "source": [
    "lower"
   ]
  },
  {
   "cell_type": "code",
   "execution_count": null,
   "id": "70ef16ad",
   "metadata": {},
   "outputs": [],
   "source": [
    "# 2 boyutlu diziler için dütun bazında bölme hsplit"
   ]
  },
  {
   "cell_type": "code",
   "execution_count": 70,
   "id": "436e3a15",
   "metadata": {},
   "outputs": [
    {
     "data": {
      "text/plain": [
       "array([[ 0,  1,  2,  3],\n",
       "       [ 4,  5,  6,  7],\n",
       "       [ 8,  9, 10, 11],\n",
       "       [12, 13, 14, 15],\n",
       "       [16, 17, 18, 19]])"
      ]
     },
     "execution_count": 70,
     "metadata": {},
     "output_type": "execute_result"
    }
   ],
   "source": [
    "m"
   ]
  },
  {
   "cell_type": "code",
   "execution_count": 71,
   "id": "0b948062",
   "metadata": {},
   "outputs": [
    {
     "data": {
      "text/plain": [
       "[array([[ 0,  1],\n",
       "        [ 4,  5],\n",
       "        [ 8,  9],\n",
       "        [12, 13],\n",
       "        [16, 17]]),\n",
       " array([[ 2,  3],\n",
       "        [ 6,  7],\n",
       "        [10, 11],\n",
       "        [14, 15],\n",
       "        [18, 19]])]"
      ]
     },
     "execution_count": 71,
     "metadata": {},
     "output_type": "execute_result"
    }
   ],
   "source": [
    "np.hsplit(m,[2])"
   ]
  },
  {
   "cell_type": "code",
   "execution_count": 72,
   "id": "5ad80dd9",
   "metadata": {},
   "outputs": [],
   "source": [
    "x,y,z,t = np.hsplit(m, 4)"
   ]
  },
  {
   "cell_type": "code",
   "execution_count": 73,
   "id": "14a2b830",
   "metadata": {},
   "outputs": [
    {
     "data": {
      "text/plain": [
       "array([[ 0],\n",
       "       [ 4],\n",
       "       [ 8],\n",
       "       [12],\n",
       "       [16]])"
      ]
     },
     "execution_count": 73,
     "metadata": {},
     "output_type": "execute_result"
    }
   ],
   "source": [
    "x"
   ]
  },
  {
   "cell_type": "code",
   "execution_count": 74,
   "id": "e10d0267",
   "metadata": {},
   "outputs": [
    {
     "data": {
      "text/plain": [
       "array([[ 1],\n",
       "       [ 5],\n",
       "       [ 9],\n",
       "       [13],\n",
       "       [17]])"
      ]
     },
     "execution_count": 74,
     "metadata": {},
     "output_type": "execute_result"
    }
   ],
   "source": [
    "y"
   ]
  },
  {
   "cell_type": "code",
   "execution_count": 75,
   "id": "fcba10fc",
   "metadata": {},
   "outputs": [
    {
     "data": {
      "text/plain": [
       "array([[ 2],\n",
       "       [ 6],\n",
       "       [10],\n",
       "       [14],\n",
       "       [18]])"
      ]
     },
     "execution_count": 75,
     "metadata": {},
     "output_type": "execute_result"
    }
   ],
   "source": [
    "z"
   ]
  },
  {
   "cell_type": "code",
   "execution_count": 76,
   "id": "8bb15a41",
   "metadata": {},
   "outputs": [
    {
     "data": {
      "text/plain": [
       "array([[ 3],\n",
       "       [ 7],\n",
       "       [11],\n",
       "       [15],\n",
       "       [19]])"
      ]
     },
     "execution_count": 76,
     "metadata": {},
     "output_type": "execute_result"
    }
   ],
   "source": [
    "t"
   ]
  },
  {
   "cell_type": "code",
   "execution_count": null,
   "id": "53640f66",
   "metadata": {},
   "outputs": [],
   "source": [
    "# sorting (sıralama satır ve sütun bazlı)"
   ]
  },
  {
   "cell_type": "code",
   "execution_count": 77,
   "id": "2e225bc1",
   "metadata": {},
   "outputs": [],
   "source": [
    "v = np.array([2,1,3,4,6])"
   ]
  },
  {
   "cell_type": "code",
   "execution_count": 78,
   "id": "92af33be",
   "metadata": {},
   "outputs": [
    {
     "data": {
      "text/plain": [
       "array([1, 2, 3, 4, 6])"
      ]
     },
     "execution_count": 78,
     "metadata": {},
     "output_type": "execute_result"
    }
   ],
   "source": [
    "np.sort(v)"
   ]
  },
  {
   "cell_type": "code",
   "execution_count": 81,
   "id": "99d12dec",
   "metadata": {},
   "outputs": [
    {
     "data": {
      "text/plain": [
       "array([[47, 52, 69],\n",
       "       [10, 73, 67],\n",
       "       [14, 29, 14]])"
      ]
     },
     "execution_count": 81,
     "metadata": {},
     "output_type": "execute_result"
    }
   ],
   "source": [
    "two_d = np.random.randint(5,100,(3,3))\n",
    "two_d"
   ]
  },
  {
   "cell_type": "code",
   "execution_count": 82,
   "id": "45fde76e",
   "metadata": {},
   "outputs": [
    {
     "data": {
      "text/plain": [
       "array([[10, 29, 14],\n",
       "       [14, 52, 67],\n",
       "       [47, 73, 69]])"
      ]
     },
     "execution_count": 82,
     "metadata": {},
     "output_type": "execute_result"
    }
   ],
   "source": [
    "np.sort(two_d, axis=0)"
   ]
  },
  {
   "cell_type": "code",
   "execution_count": 83,
   "id": "5c9f8332",
   "metadata": {},
   "outputs": [
    {
     "data": {
      "text/plain": [
       "array([[47, 52, 69],\n",
       "       [10, 67, 73],\n",
       "       [14, 14, 29]])"
      ]
     },
     "execution_count": 83,
     "metadata": {},
     "output_type": "execute_result"
    }
   ],
   "source": [
    "np.sort(two_d, axis=1)"
   ]
  }
 ],
 "metadata": {
  "kernelspec": {
   "display_name": "Python 3",
   "language": "python",
   "name": "python3"
  },
  "language_info": {
   "codemirror_mode": {
    "name": "ipython",
    "version": 3
   },
   "file_extension": ".py",
   "mimetype": "text/x-python",
   "name": "python",
   "nbconvert_exporter": "python",
   "pygments_lexer": "ipython3",
   "version": "3.8.8"
  }
 },
 "nbformat": 4,
 "nbformat_minor": 5
}
